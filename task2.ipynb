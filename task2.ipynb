{
 "cells": [
  {
   "cell_type": "markdown",
   "id": "86c4148d",
   "metadata": {},
   "source": [
    "Final Project "
   ]
  },
  {
   "cell_type": "code",
   "execution_count": null,
   "id": "8560193f",
   "metadata": {},
   "outputs": [
    {
     "data": {
      "text/plain": [
       "True"
      ]
     },
     "execution_count": 18,
     "metadata": {},
     "output_type": "execute_result"
    }
   ],
   "source": [
    "# Imports\n",
    "import numpy as np\n",
    "import pandas as pd\n",
    "import matplotlib.pyplot as plt\n",
    "import sklearn"
   ]
  },
  {
   "cell_type": "code",
   "execution_count": 19,
   "id": "a4a30771",
   "metadata": {},
   "outputs": [],
   "source": [
    "\"\"\"\n",
    "N_TRAIN     4224\n",
    "N_DEV       4278\n",
    "D           100\n",
    "C\t\t\t1\n",
    "\"\"\"\n",
    "# Standardize Method\n",
    "def standardize(X):\n",
    " return (X - np.mean(X, axis=0)) / np.std(X, axis=0)\n",
    "\n",
    "# Grab Data, target, feature order\n",
    "class Dataset():\n",
    "    def __init__(self,targetFilename,featureFilename):\n",
    "        traintarget = np.loadtxt(targetFilename, delimiter=\" \")\n",
    "        trainfeature = np.loadtxt(featureFilename,delimiter=\" \")\n",
    "        self.X = trainfeature\n",
    "        self.y = traintarget\n",
    "    # Retrieve X and y based on index\n",
    "    def __getitem__(self, index):\n",
    "        return self.X[index], self.y[index]\n",
    "    # Size of Dataset\n",
    "    def __len__(self):\n",
    "        return len(self.X)"
   ]
  },
  {
   "cell_type": "code",
   "execution_count": 20,
   "id": "97d4760a",
   "metadata": {},
   "outputs": [],
   "source": [
    "# Load Data\n",
    "train = Dataset(\"task2_baseball/train.RT\",\"task2_baseball/train.X\")\n",
    "dev = Dataset(\"task2_baseball/dev.RT\",\"task2_baseball/dev.X\")"
   ]
  },
  {
   "cell_type": "code",
   "execution_count": null,
   "id": "473a428c",
   "metadata": {},
   "outputs": [
    {
     "data": {
      "text/html": [
       "Tracking run with wandb version 0.19.11"
      ],
      "text/plain": [
       "<IPython.core.display.HTML object>"
      ]
     },
     "metadata": {},
     "output_type": "display_data"
    },
    {
     "data": {
      "text/html": [
       "Run data is saved locally in <code>/home/voidstarstar/data471/work/final-proj/wandb/run-20250605_142205-v33h9scz</code>"
      ],
      "text/plain": [
       "<IPython.core.display.HTML object>"
      ]
     },
     "metadata": {},
     "output_type": "display_data"
    },
    {
     "data": {
      "text/html": [
       "Syncing run <strong><a href='https://wandb.ai/sweetj4-wwu/baseball/runs/v33h9scz' target=\"_blank\">woven-waterfall-131</a></strong> to <a href='https://wandb.ai/sweetj4-wwu/baseball' target=\"_blank\">Weights & Biases</a> (<a href='https://wandb.me/developer-guide' target=\"_blank\">docs</a>)<br>"
      ],
      "text/plain": [
       "<IPython.core.display.HTML object>"
      ]
     },
     "metadata": {},
     "output_type": "display_data"
    },
    {
     "data": {
      "text/html": [
       " View project at <a href='https://wandb.ai/sweetj4-wwu/baseball' target=\"_blank\">https://wandb.ai/sweetj4-wwu/baseball</a>"
      ],
      "text/plain": [
       "<IPython.core.display.HTML object>"
      ]
     },
     "metadata": {},
     "output_type": "display_data"
    },
    {
     "data": {
      "text/html": [
       " View run at <a href='https://wandb.ai/sweetj4-wwu/baseball/runs/v33h9scz' target=\"_blank\">https://wandb.ai/sweetj4-wwu/baseball/runs/v33h9scz</a>"
      ],
      "text/plain": [
       "<IPython.core.display.HTML object>"
      ]
     },
     "metadata": {},
     "output_type": "display_data"
    },
    {
     "name": "stderr",
     "output_type": "stream",
     "text": [
      "\u001b[34m\u001b[1mwandb\u001b[0m: \u001b[32m\u001b[41mERROR\u001b[0m The nbformat package was not found. It is required to save notebook history.\n"
     ]
    },
    {
     "name": "stdout",
     "output_type": "stream",
     "text": [
      "MSE:  7.50066045312707\n",
      "R2:  0.4337487364535946\n",
      "Test MSE:  7.644234605155271\n",
      "Test R2:  0.38245619260265795\n"
     ]
    },
    {
     "data": {
      "text/html": [],
      "text/plain": [
       "<IPython.core.display.HTML object>"
      ]
     },
     "metadata": {},
     "output_type": "display_data"
    },
    {
     "data": {
      "text/html": [
       " View run <strong style=\"color:#cdcd00\">woven-waterfall-131</strong> at: <a href='https://wandb.ai/sweetj4-wwu/baseball/runs/v33h9scz' target=\"_blank\">https://wandb.ai/sweetj4-wwu/baseball/runs/v33h9scz</a><br> View project at: <a href='https://wandb.ai/sweetj4-wwu/baseball' target=\"_blank\">https://wandb.ai/sweetj4-wwu/baseball</a><br>Synced 5 W&B file(s), 0 media file(s), 0 artifact file(s) and 0 other file(s)"
      ],
      "text/plain": [
       "<IPython.core.display.HTML object>"
      ]
     },
     "metadata": {},
     "output_type": "display_data"
    },
    {
     "data": {
      "text/html": [
       "Find logs at: <code>./wandb/run-20250605_142205-v33h9scz/logs</code>"
      ],
      "text/plain": [
       "<IPython.core.display.HTML object>"
      ]
     },
     "metadata": {},
     "output_type": "display_data"
    }
   ],
   "source": [
    "from sklearn.neural_network import MLPRegressor\n",
    "from sklearn.metrics import r2_score\n",
    "from sklearn.metrics import mean_squared_error\n",
    "\n",
    "train = Dataset(\"task2_baseball/train.RT\",\"task2_baseball/train.X\")\n",
    "# Train Set \n",
    "X = train.X\n",
    "y = train.y\n",
    "\n",
    "# Standardize\n",
    "X_train = standardize(X)\n",
    "X_test = standardize(dev.X)\n",
    "\n",
    "# Initialize neural network with given hyperparameters\n",
    "model_width = 140\n",
    "model_depth = 5\n",
    "hidden_layers = []\n",
    "for i in range(0, model_depth):\n",
    "    hidden_layers.append(model_width)\n",
    "hidden_layers = tuple(hidden_layers)\n",
    "\n",
    "base_nn = MLPRegressor(hidden_layer_sizes = hidden_layers, activation = 'logistic',\n",
    "                        alpha = 0.02, learning_rate_init=0.001, early_stopping=True)\n",
    "\n",
    "base_nn.fit(X, y)\n",
    "\n",
    "# Make prediction\n",
    "y_train_pred = base_nn.predict(X_train)\n",
    "\n",
    "accuracy = mean_squared_error(train.y,y_train_pred)\n",
    "\n",
    "print(\"MSE: \", accuracy)\n",
    "\n",
    "print(\"R2: \", r2_score(train.y, y_train_pred))\n",
    "\n",
    "# Make test prediction\n",
    "y_test_pred = base_nn.predict(X_test)\n",
    "\n",
    "testaccuracy = mean_squared_error(dev.y,y_test_pred)\n",
    "\n",
    "print(\"Test MSE: \", testaccuracy)\n",
    "\n",
    "print(\"Test R2: \", r2_score(dev.y, y_test_pred))"
   ]
  },
  {
   "cell_type": "code",
   "execution_count": null,
   "id": "3b63cbc1",
   "metadata": {},
   "outputs": [
    {
     "data": {
      "text/html": [
       "Tracking run with wandb version 0.19.11"
      ],
      "text/plain": [
       "<IPython.core.display.HTML object>"
      ]
     },
     "metadata": {},
     "output_type": "display_data"
    },
    {
     "data": {
      "text/html": [
       "Run data is saved locally in <code>/home/voidstarstar/data471/work/final-proj/wandb/run-20250605_143004-fe8b8age</code>"
      ],
      "text/plain": [
       "<IPython.core.display.HTML object>"
      ]
     },
     "metadata": {},
     "output_type": "display_data"
    },
    {
     "data": {
      "text/html": [
       "Syncing run <strong><a href='https://wandb.ai/sweetj4-wwu/baseball/runs/fe8b8age' target=\"_blank\">celestial-spaceship-133</a></strong> to <a href='https://wandb.ai/sweetj4-wwu/baseball' target=\"_blank\">Weights & Biases</a> (<a href='https://wandb.me/developer-guide' target=\"_blank\">docs</a>)<br>"
      ],
      "text/plain": [
       "<IPython.core.display.HTML object>"
      ]
     },
     "metadata": {},
     "output_type": "display_data"
    },
    {
     "data": {
      "text/html": [
       " View project at <a href='https://wandb.ai/sweetj4-wwu/baseball' target=\"_blank\">https://wandb.ai/sweetj4-wwu/baseball</a>"
      ],
      "text/plain": [
       "<IPython.core.display.HTML object>"
      ]
     },
     "metadata": {},
     "output_type": "display_data"
    },
    {
     "data": {
      "text/html": [
       " View run at <a href='https://wandb.ai/sweetj4-wwu/baseball/runs/fe8b8age' target=\"_blank\">https://wandb.ai/sweetj4-wwu/baseball/runs/fe8b8age</a>"
      ],
      "text/plain": [
       "<IPython.core.display.HTML object>"
      ]
     },
     "metadata": {},
     "output_type": "display_data"
    },
    {
     "name": "stdout",
     "output_type": "stream",
     "text": [
      "MSE:  12.832484279720164\n",
      "R2:  0.03123058519446531\n"
     ]
    },
    {
     "name": "stderr",
     "output_type": "stream",
     "text": [
      "\u001b[34m\u001b[1mwandb\u001b[0m: \u001b[32m\u001b[41mERROR\u001b[0m The nbformat package was not found. It is required to save notebook history.\n"
     ]
    },
    {
     "name": "stdout",
     "output_type": "stream",
     "text": [
      "Test MSE:  15.431699185040623\n",
      "Test R2:  -0.24665852915000608\n"
     ]
    },
    {
     "data": {
      "text/html": [],
      "text/plain": [
       "<IPython.core.display.HTML object>"
      ]
     },
     "metadata": {},
     "output_type": "display_data"
    },
    {
     "data": {
      "text/html": [
       " View run <strong style=\"color:#cdcd00\">celestial-spaceship-133</strong> at: <a href='https://wandb.ai/sweetj4-wwu/baseball/runs/fe8b8age' target=\"_blank\">https://wandb.ai/sweetj4-wwu/baseball/runs/fe8b8age</a><br> View project at: <a href='https://wandb.ai/sweetj4-wwu/baseball' target=\"_blank\">https://wandb.ai/sweetj4-wwu/baseball</a><br>Synced 5 W&B file(s), 0 media file(s), 0 artifact file(s) and 0 other file(s)"
      ],
      "text/plain": [
       "<IPython.core.display.HTML object>"
      ]
     },
     "metadata": {},
     "output_type": "display_data"
    },
    {
     "data": {
      "text/html": [
       "Find logs at: <code>./wandb/run-20250605_143004-fe8b8age/logs</code>"
      ],
      "text/plain": [
       "<IPython.core.display.HTML object>"
      ]
     },
     "metadata": {},
     "output_type": "display_data"
    }
   ],
   "source": [
    "from sklearn.ensemble import RandomForestRegressor\n",
    "from sklearn.metrics import mean_squared_error\n",
    "\n",
    "train = Dataset(\"task2_baseball/train.RT\",\"task2_baseball/train.X\")\n",
    "# Train Set \n",
    "X = train.X\n",
    "y = train.y\n",
    "\n",
    "# Standardize\n",
    "X_train = standardize(X)\n",
    "X_test = standardize(dev.X)\n",
    "\n",
    "# Initialize random forest\n",
    "rand_forest = RandomForestRegressor(n_estimators=1000)\n",
    "rand_forest.fit(X, y)\n",
    "\n",
    "# Make prediction\n",
    "y_train_pred = rand_forest.predict(X_train)\n",
    "accuracy = mean_squared_error(train.y, y_train_pred)\n",
    "\n",
    "print(\"MSE: \", accuracy)\n",
    "\n",
    "print(\"R2: \", r2_score(train.y, y_train_pred))\n",
    "\n",
    "# Make test prediction\n",
    "y_test_pred = rand_forest.predict(X_test)\n",
    "testaccuracy = mean_squared_error(dev.y, y_test_pred)\n",
    "\n",
    "print(\"Test MSE: \", testaccuracy)\n",
    "\n",
    "print(\"Test R2: \", r2_score(dev.y, y_test_pred))"
   ]
  },
  {
   "cell_type": "code",
   "execution_count": null,
   "id": "71c93869",
   "metadata": {},
   "outputs": [
    {
     "data": {
      "text/html": [
       "creating run (0.0s)"
      ],
      "text/plain": [
       "<IPython.core.display.HTML object>"
      ]
     },
     "metadata": {},
     "output_type": "display_data"
    },
    {
     "data": {
      "text/html": [
       "Tracking run with wandb version 0.19.11"
      ],
      "text/plain": [
       "<IPython.core.display.HTML object>"
      ]
     },
     "metadata": {},
     "output_type": "display_data"
    },
    {
     "data": {
      "text/html": [
       "Run data is saved locally in <code>/home/voidstarstar/data471/work/final-proj/wandb/run-20250604_105532-3yz89cen</code>"
      ],
      "text/plain": [
       "<IPython.core.display.HTML object>"
      ]
     },
     "metadata": {},
     "output_type": "display_data"
    },
    {
     "data": {
      "text/html": [
       "Syncing run <strong><a href='https://wandb.ai/sweetj4-wwu/baseball/runs/3yz89cen' target=\"_blank\">cosmic-glitter-126</a></strong> to <a href='https://wandb.ai/sweetj4-wwu/baseball' target=\"_blank\">Weights & Biases</a> (<a href='https://wandb.me/developer-guide' target=\"_blank\">docs</a>)<br>"
      ],
      "text/plain": [
       "<IPython.core.display.HTML object>"
      ]
     },
     "metadata": {},
     "output_type": "display_data"
    },
    {
     "data": {
      "text/html": [
       " View project at <a href='https://wandb.ai/sweetj4-wwu/baseball' target=\"_blank\">https://wandb.ai/sweetj4-wwu/baseball</a>"
      ],
      "text/plain": [
       "<IPython.core.display.HTML object>"
      ]
     },
     "metadata": {},
     "output_type": "display_data"
    },
    {
     "data": {
      "text/html": [
       " View run at <a href='https://wandb.ai/sweetj4-wwu/baseball/runs/3yz89cen' target=\"_blank\">https://wandb.ai/sweetj4-wwu/baseball/runs/3yz89cen</a>"
      ],
      "text/plain": [
       "<IPython.core.display.HTML object>"
      ]
     },
     "metadata": {},
     "output_type": "display_data"
    },
    {
     "name": "stdout",
     "output_type": "stream",
     "text": [
      "MSE:  6.670296059617598\n",
      "R2:  0.4964358678024954\n"
     ]
    },
    {
     "name": "stderr",
     "output_type": "stream",
     "text": [
      "\u001b[34m\u001b[1mwandb\u001b[0m: \u001b[32m\u001b[41mERROR\u001b[0m The nbformat package was not found. It is required to save notebook history.\n"
     ]
    },
    {
     "name": "stdout",
     "output_type": "stream",
     "text": [
      "Test MSE:  6.814327937900204\n",
      "Test R2:  0.44950067116111303\n"
     ]
    },
    {
     "data": {
      "text/html": [],
      "text/plain": [
       "<IPython.core.display.HTML object>"
      ]
     },
     "metadata": {},
     "output_type": "display_data"
    },
    {
     "data": {
      "text/html": [
       " View run <strong style=\"color:#cdcd00\">cosmic-glitter-126</strong> at: <a href='https://wandb.ai/sweetj4-wwu/baseball/runs/3yz89cen' target=\"_blank\">https://wandb.ai/sweetj4-wwu/baseball/runs/3yz89cen</a><br> View project at: <a href='https://wandb.ai/sweetj4-wwu/baseball' target=\"_blank\">https://wandb.ai/sweetj4-wwu/baseball</a><br>Synced 5 W&B file(s), 0 media file(s), 0 artifact file(s) and 0 other file(s)"
      ],
      "text/plain": [
       "<IPython.core.display.HTML object>"
      ]
     },
     "metadata": {},
     "output_type": "display_data"
    },
    {
     "data": {
      "text/html": [
       "Find logs at: <code>./wandb/run-20250604_105532-3yz89cen/logs</code>"
      ],
      "text/plain": [
       "<IPython.core.display.HTML object>"
      ]
     },
     "metadata": {},
     "output_type": "display_data"
    }
   ],
   "source": [
    "from sklearn.neural_network import MLPRegressor\n",
    "from sklearn.ensemble import VotingRegressor\n",
    "from sklearn.metrics import r2_score\n",
    "from sklearn.metrics import mean_squared_error\n",
    "\n",
    "train = Dataset(\"task2_baseball/train.RT\",\"task2_baseball/train.X\")\n",
    "# Train Set \n",
    "X = train.X\n",
    "y = train.y\n",
    "\n",
    "# Standardize\n",
    "X_train = standardize(X)\n",
    "X_test = standardize(dev.X)\n",
    "\n",
    "# Define network hyperparameters\n",
    "model_width = 30\n",
    "model_depth = 6\n",
    "ensemble_size = 75\n",
    "num_epochs = 10\n",
    "\n",
    "# Initialize list of neural networks\n",
    "ensemble_list = []\n",
    "for j in range(0, ensemble_size):\n",
    "    hidden_layers = []\n",
    "    for i in range(0, model_depth):\n",
    "        hidden_layers.append(model_width)\n",
    "    hidden_layers = tuple(hidden_layers)\n",
    "\n",
    "    ensemble_list.append((str(j), MLPRegressor(hidden_layer_sizes = hidden_layers, activation = 'logistic',\n",
    "                        alpha = 0.01, learning_rate_init=0.001, max_iter=600, early_stopping=True)))\n",
    "\n",
    "# Initialize voting regressor with ensemble list and run for a number of epochs\n",
    "ensemble = VotingRegressor(ensemble_list)\n",
    "for i in range(0, num_epochs):\n",
    "    ensemble.fit(X_train, y)\n",
    "\n",
    "# Make prediction\n",
    "y_train_pred = ensemble.predict(X_train)\n",
    "\n",
    "accuracy = mean_squared_error(train.y,y_train_pred)\n",
    "\n",
    "print(\"MSE: \", accuracy)\n",
    "\n",
    "print(\"R2: \", r2_score(train.y, y_train_pred))\n",
    "\n",
    "# Make test prediction\n",
    "y_test_pred = ensemble.predict(X_test)\n",
    "\n",
    "testaccuracy = mean_squared_error(dev.y,y_test_pred)\n",
    "\n",
    "print(\"Test MSE: \", testaccuracy)\n",
    "\n",
    "print(\"Test R2: \", r2_score(dev.y, y_test_pred))"
   ]
  },
  {
   "cell_type": "code",
   "execution_count": null,
   "id": "59283ee3",
   "metadata": {},
   "outputs": [
    {
     "data": {
      "text/html": [
       "Tracking run with wandb version 0.19.11"
      ],
      "text/plain": [
       "<IPython.core.display.HTML object>"
      ]
     },
     "metadata": {},
     "output_type": "display_data"
    },
    {
     "data": {
      "text/html": [
       "Run data is saved locally in <code>/home/voidstarstar/data471/work/final-proj/wandb/run-20250605_142620-baidaqxj</code>"
      ],
      "text/plain": [
       "<IPython.core.display.HTML object>"
      ]
     },
     "metadata": {},
     "output_type": "display_data"
    },
    {
     "data": {
      "text/html": [
       "Syncing run <strong><a href='https://wandb.ai/sweetj4-wwu/baseball/runs/baidaqxj' target=\"_blank\">classic-water-132</a></strong> to <a href='https://wandb.ai/sweetj4-wwu/baseball' target=\"_blank\">Weights & Biases</a> (<a href='https://wandb.me/developer-guide' target=\"_blank\">docs</a>)<br>"
      ],
      "text/plain": [
       "<IPython.core.display.HTML object>"
      ]
     },
     "metadata": {},
     "output_type": "display_data"
    },
    {
     "data": {
      "text/html": [
       " View project at <a href='https://wandb.ai/sweetj4-wwu/baseball' target=\"_blank\">https://wandb.ai/sweetj4-wwu/baseball</a>"
      ],
      "text/plain": [
       "<IPython.core.display.HTML object>"
      ]
     },
     "metadata": {},
     "output_type": "display_data"
    },
    {
     "data": {
      "text/html": [
       " View run at <a href='https://wandb.ai/sweetj4-wwu/baseball/runs/baidaqxj' target=\"_blank\">https://wandb.ai/sweetj4-wwu/baseball/runs/baidaqxj</a>"
      ],
      "text/plain": [
       "<IPython.core.display.HTML object>"
      ]
     },
     "metadata": {},
     "output_type": "display_data"
    },
    {
     "name": "stdout",
     "output_type": "stream",
     "text": [
      "MSE:  8.81353641619492\n",
      "R2:  0.3346351080454538\n"
     ]
    },
    {
     "name": "stderr",
     "output_type": "stream",
     "text": [
      "\u001b[34m\u001b[1mwandb\u001b[0m: \u001b[32m\u001b[41mERROR\u001b[0m The nbformat package was not found. It is required to save notebook history.\n"
     ]
    },
    {
     "name": "stdout",
     "output_type": "stream",
     "text": [
      "Test MSE:  9.718305359828392\n",
      "Test R2:  0.2149012159685647\n"
     ]
    },
    {
     "data": {
      "text/html": [],
      "text/plain": [
       "<IPython.core.display.HTML object>"
      ]
     },
     "metadata": {},
     "output_type": "display_data"
    },
    {
     "data": {
      "text/html": [
       " View run <strong style=\"color:#cdcd00\">classic-water-132</strong> at: <a href='https://wandb.ai/sweetj4-wwu/baseball/runs/baidaqxj' target=\"_blank\">https://wandb.ai/sweetj4-wwu/baseball/runs/baidaqxj</a><br> View project at: <a href='https://wandb.ai/sweetj4-wwu/baseball' target=\"_blank\">https://wandb.ai/sweetj4-wwu/baseball</a><br>Synced 5 W&B file(s), 0 media file(s), 0 artifact file(s) and 0 other file(s)"
      ],
      "text/plain": [
       "<IPython.core.display.HTML object>"
      ]
     },
     "metadata": {},
     "output_type": "display_data"
    },
    {
     "data": {
      "text/html": [
       "Find logs at: <code>./wandb/run-20250605_142620-baidaqxj/logs</code>"
      ],
      "text/plain": [
       "<IPython.core.display.HTML object>"
      ]
     },
     "metadata": {},
     "output_type": "display_data"
    }
   ],
   "source": [
    "from sklearn.svm import SVR\n",
    "from sklearn.metrics import mean_squared_error\n",
    "\n",
    "train = Dataset(\"task2_baseball/train.RT\",\"task2_baseball/train.X\")\n",
    "\n",
    "# Train Set \n",
    "X = train.X\n",
    "y = train.y\n",
    "\n",
    "# Standardize\n",
    "X_train = standardize(X)\n",
    "X_test = standardize(dev.X)\n",
    "\n",
    "# Initialize support vector regressor\n",
    "sv_machine = SVR(kernel='rbf')\n",
    "\n",
    "sv_machine.fit(X, y)\n",
    "\n",
    "# Make prediction\n",
    "y_train_pred = sv_machine.predict(X_train)\n",
    "\n",
    "accuracy = mean_squared_error(train.y,y_train_pred)\n",
    "\n",
    "print(\"MSE: \", accuracy)\n",
    "\n",
    "print(\"R2: \", r2_score(train.y, y_train_pred))\n",
    "\n",
    "# Make test prediction\n",
    "y_test_pred = sv_machine.predict(X_test)\n",
    "\n",
    "testaccuracy = mean_squared_error(dev.y,y_test_pred)\n",
    "\n",
    "print(\"Test MSE: \", testaccuracy)\n",
    "\n",
    "print(\"Test R2: \", r2_score(dev.y, y_test_pred))"
   ]
  },
  {
   "cell_type": "code",
   "execution_count": null,
   "id": "3f2abc0f",
   "metadata": {},
   "outputs": [
    {
     "data": {
      "image/png": "[encoded data removed]",
      "text/plain": [
       "<Figure size 640x480 with 1 Axes>"
      ]
     },
     "metadata": {},
     "output_type": "display_data"
    },
    {
     "data": {
      "image/png": "[encoded data removed]",
      "text/plain": [
       "<Figure size 640x480 with 1 Axes>"
      ]
     },
     "metadata": {},
     "output_type": "display_data"
    }
   ],
   "source": [
    "# Initialize data for plotting\n",
    "\n",
    "models = ('NN', 'Random Forest',\n",
    "          'NN Ensemble', 'SVM')\n",
    "train_perf = np.array([7.53886942650788, 12.661427341936834,\n",
    "                       6.670296059617598, 8.81353641619492])\n",
    "dev_perf = np.array([7.786652033101751, 15.25011671845809,\n",
    "                     6.814327937900204, 9.718305359828392])\n",
    "width = 0.6\n",
    "\n",
    "# Plot train results\n",
    "for i in range(0, len(models)):\n",
    "    plt.bar(models[i], train_perf[i], width)\n",
    "plt.xlabel('Model')\n",
    "plt.ylabel('MSE')\n",
    "plt.yticks(np.arange(0, max(train_perf)+1, 1))\n",
    "plt.title('Train Performance (MSE)')\n",
    "\n",
    "plt.show()\n",
    "\n",
    "# Plot dev results\n",
    "for i in range(0, len(models)):\n",
    "    plt.bar(models[i], dev_perf[i], width)\n",
    "plt.xlabel('Model')\n",
    "plt.ylabel('MSE')\n",
    "plt.yticks(np.arange(0, max(dev_perf)+1, 1))\n",
    "plt.title('Dev Performance (MSE)')\n",
    "\n",
    "plt.show()"
   ]
  }
 ],
 "metadata": {
  "kernelspec": {
   "display_name": ".venv",
   "language": "python",
   "name": "python3"
  },
  "language_info": {
   "codemirror_mode": {
    "name": "ipython",
    "version": 3
   },
   "file_extension": ".py",
   "mimetype": "text/x-python",
   "name": "python",
   "nbconvert_exporter": "python",
   "pygments_lexer": "ipython3",
   "version": "3.12.3"
  }
 },
 "nbformat": 4,
 "nbformat_minor": 5
}
