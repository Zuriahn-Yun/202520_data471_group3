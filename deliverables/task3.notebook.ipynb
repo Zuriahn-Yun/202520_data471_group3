{
  "cells": [
    {
      "cell_type": "code",
      "execution_count": 13,
      "id": "4d8ee8b8",
      "metadata": {
        "id": "4d8ee8b8"
      },
      "outputs": [],
      "source": [
        "import numpy as np\n",
        "import sklearn\n",
        "import pandas as pd\n",
        "from scipy.sparse import coo_matrix\n",
        "import wandb\n",
        "from sklearn.metrics import mean_squared_error, r2_score\n",
        "from sklearn.linear_model import LinearRegression, Ridge, Lasso\n",
        "from sklearn.ensemble import RandomForestRegressor\n",
        "from sklearn.neural_network import MLPRegressor"
      ]
    },
    {
      "cell_type": "code",
      "execution_count": 14,
      "id": "da987b25",
      "metadata": {
        "id": "da987b25"
      },
      "outputs": [],
      "source": [
        "# Load data\n",
        "data = np.loadtxt('train.sparseX')\n",
        "y_train = np.loadtxt('train.RT')\n",
        "\n",
        "data_dev = np.loadtxt('dev.sparseX')\n",
        "y_dev = np.loadtxt('dev.RT')"
      ]
    },
    {
      "cell_type": "code",
      "execution_count": 15,
      "id": "P1RUIumwMVHU",
      "metadata": {
        "colab": {
          "base_uri": "https://localhost:8080/"
        },
        "id": "P1RUIumwMVHU",
        "outputId": "e7f40be2-f8ab-4c29-e5d1-c534b35b26ee"
      },
      "outputs": [
        {
          "output_type": "stream",
          "name": "stdout",
          "text": [
            "(53445, 75000)\n",
            "(53379, 75000)\n"
          ]
        }
      ],
      "source": [
        "# Preprocess Sparse matrix into Coordinate list matrix\n",
        "# from scipy.sparse import coo_matrix\n",
        "\n",
        "# Split data apart\n",
        "rows = data[:, 0].astype(int)\n",
        "cols = data[:, 1].astype(int)\n",
        "vals = data[:, 2].astype(int)\n",
        "\n",
        "# Build matrix\n",
        "row_len = rows.max() + 1\n",
        "col_len = 75000\n",
        "# col_len = cols.max() + 1\n",
        "\n",
        "sparse_matrix = coo_matrix((vals, (rows, cols)), shape=(row_len, col_len))\n",
        "\n",
        "print(sparse_matrix.shape)\n",
        "\n",
        "# Split dev data apart\n",
        "rows_dev = data_dev[:, 0].astype(int)\n",
        "cols_dev = data_dev[:, 1].astype(int)\n",
        "vals_dev = data_dev[:, 2].astype(int)\n",
        "\n",
        "# Build dev matrix\n",
        "row_len_dev = rows_dev.max() + 1\n",
        "col_len_dev = cols_dev.max() + 1\n",
        "sparse_matrix_dev = coo_matrix((vals_dev, (rows_dev, cols_dev)), shape=(row_len_dev, col_len_dev))\n",
        "\n",
        "print(sparse_matrix_dev.shape)"
      ]
    },
    {
      "cell_type": "code",
      "execution_count": 19,
      "id": "S9DVkMvbMiQu",
      "metadata": {
        "colab": {
          "base_uri": "https://localhost:8080/",
          "height": 537
        },
        "id": "S9DVkMvbMiQu",
        "outputId": "1d6ec112-1cf2-4fdb-b092-e1b50c5634ae"
      },
      "outputs": [
        {
          "output_type": "display_data",
          "data": {
            "text/plain": [
              "<IPython.core.display.HTML object>"
            ],
            "text/html": [
              "Tracking run with wandb version 0.19.11"
            ]
          },
          "metadata": {}
        },
        {
          "output_type": "display_data",
          "data": {
            "text/plain": [
              "<IPython.core.display.HTML object>"
            ],
            "text/html": [
              "Run data is saved locally in <code>/content/wandb/run-20250605_174237-k8ydse28</code>"
            ]
          },
          "metadata": {}
        },
        {
          "output_type": "display_data",
          "data": {
            "text/plain": [
              "<IPython.core.display.HTML object>"
            ],
            "text/html": [
              "Syncing run <strong><a href='https://wandb.ai/israelavendanojr-western-washington-university/linear_regression_experiments/runs/k8ydse28' target=\"_blank\">dark-wildflower-24</a></strong> to <a href='https://wandb.ai/israelavendanojr-western-washington-university/linear_regression_experiments' target=\"_blank\">Weights & Biases</a> (<a href='https://wandb.me/developer-guide' target=\"_blank\">docs</a>)<br>"
            ]
          },
          "metadata": {}
        },
        {
          "output_type": "display_data",
          "data": {
            "text/plain": [
              "<IPython.core.display.HTML object>"
            ],
            "text/html": [
              " View project at <a href='https://wandb.ai/israelavendanojr-western-washington-university/linear_regression_experiments' target=\"_blank\">https://wandb.ai/israelavendanojr-western-washington-university/linear_regression_experiments</a>"
            ]
          },
          "metadata": {}
        },
        {
          "output_type": "display_data",
          "data": {
            "text/plain": [
              "<IPython.core.display.HTML object>"
            ],
            "text/html": [
              " View run at <a href='https://wandb.ai/israelavendanojr-western-washington-university/linear_regression_experiments/runs/k8ydse28' target=\"_blank\">https://wandb.ai/israelavendanojr-western-washington-university/linear_regression_experiments/runs/k8ydse28</a>"
            ]
          },
          "metadata": {}
        },
        {
          "output_type": "stream",
          "name": "stdout",
          "text": [
            "Linear Regression MSE on dev: 42.63337196650411\n"
          ]
        },
        {
          "output_type": "display_data",
          "data": {
            "text/plain": [
              "<IPython.core.display.HTML object>"
            ],
            "text/html": []
          },
          "metadata": {}
        },
        {
          "output_type": "display_data",
          "data": {
            "text/plain": [
              "<IPython.core.display.HTML object>"
            ],
            "text/html": [
              "<br>    <style><br>        .wandb-row {<br>            display: flex;<br>            flex-direction: row;<br>            flex-wrap: wrap;<br>            justify-content: flex-start;<br>            width: 100%;<br>        }<br>        .wandb-col {<br>            display: flex;<br>            flex-direction: column;<br>            flex-basis: 100%;<br>            flex: 1;<br>            padding: 10px;<br>        }<br>    </style><br><div class=\"wandb-row\"><div class=\"wandb-col\"><h3>Run history:</h3><br/><table class=\"wandb\"><tr><td>mse</td><td>▁</td></tr><tr><td>r2_score</td><td>▁</td></tr></table><br/></div><div class=\"wandb-col\"><h3>Run summary:</h3><br/><table class=\"wandb\"><tr><td>mse</td><td>42.63337</td></tr><tr><td>r2_score</td><td>-24.28421</td></tr></table><br/></div></div>"
            ]
          },
          "metadata": {}
        },
        {
          "output_type": "display_data",
          "data": {
            "text/plain": [
              "<IPython.core.display.HTML object>"
            ],
            "text/html": [
              " View run <strong style=\"color:#cdcd00\">dark-wildflower-24</strong> at: <a href='https://wandb.ai/israelavendanojr-western-washington-university/linear_regression_experiments/runs/k8ydse28' target=\"_blank\">https://wandb.ai/israelavendanojr-western-washington-university/linear_regression_experiments/runs/k8ydse28</a><br> View project at: <a href='https://wandb.ai/israelavendanojr-western-washington-university/linear_regression_experiments' target=\"_blank\">https://wandb.ai/israelavendanojr-western-washington-university/linear_regression_experiments</a><br>Synced 5 W&B file(s), 0 media file(s), 0 artifact file(s) and 0 other file(s)"
            ]
          },
          "metadata": {}
        },
        {
          "output_type": "display_data",
          "data": {
            "text/plain": [
              "<IPython.core.display.HTML object>"
            ],
            "text/html": [
              "Find logs at: <code>./wandb/run-20250605_174237-k8ydse28/logs</code>"
            ]
          },
          "metadata": {}
        }
      ],
      "source": [
        "# Linear regression\n",
        "\n",
        "# Weight and Biases, start run with init, log with config\n",
        "wandb.init(\n",
        "    project=\"linear_regression_experiments\",\n",
        "    config={\n",
        "        \"model_type\": \"LinearRegression\",\n",
        "        \"description\": \"Baseline linear regression\",\n",
        "    }\n",
        ")\n",
        "\n",
        "# Train linear regression\n",
        "linear_regression = LinearRegression()\n",
        "linear_regression.fit(sparse_matrix, y_train)\n",
        "\n",
        "y_dev_pred = linear_regression.predict(sparse_matrix_dev)\n",
        "\n",
        "\n",
        "# Evaluate performance\n",
        "mse = mean_squared_error(y_dev, y_dev_pred)\n",
        "r2 = r2_score(y_dev, y_dev_pred)\n",
        "\n",
        "# Log to wandb\n",
        "wandb.log({\"mse\": mse, \"r2_score\": r2})\n",
        "wandb.finish()"
      ]
    },
    {
      "cell_type": "code",
      "execution_count": 20,
      "id": "eAhUPcJ6kf-n",
      "metadata": {
        "colab": {
          "base_uri": "https://localhost:8080/",
          "height": 537
        },
        "id": "eAhUPcJ6kf-n",
        "outputId": "0b096a0b-5f74-46b5-e0f6-3c7e45cb3d41"
      },
      "outputs": [
        {
          "output_type": "display_data",
          "data": {
            "text/plain": [
              "<IPython.core.display.HTML object>"
            ],
            "text/html": [
              "Tracking run with wandb version 0.19.11"
            ]
          },
          "metadata": {}
        },
        {
          "output_type": "display_data",
          "data": {
            "text/plain": [
              "<IPython.core.display.HTML object>"
            ],
            "text/html": [
              "Run data is saved locally in <code>/content/wandb/run-20250605_174959-mwecamro</code>"
            ]
          },
          "metadata": {}
        },
        {
          "output_type": "display_data",
          "data": {
            "text/plain": [
              "<IPython.core.display.HTML object>"
            ],
            "text/html": [
              "Syncing run <strong><a href='https://wandb.ai/israelavendanojr-western-washington-university/linear_regression_experiments/runs/mwecamro' target=\"_blank\">colorful-voice-25</a></strong> to <a href='https://wandb.ai/israelavendanojr-western-washington-university/linear_regression_experiments' target=\"_blank\">Weights & Biases</a> (<a href='https://wandb.me/developer-guide' target=\"_blank\">docs</a>)<br>"
            ]
          },
          "metadata": {}
        },
        {
          "output_type": "display_data",
          "data": {
            "text/plain": [
              "<IPython.core.display.HTML object>"
            ],
            "text/html": [
              " View project at <a href='https://wandb.ai/israelavendanojr-western-washington-university/linear_regression_experiments' target=\"_blank\">https://wandb.ai/israelavendanojr-western-washington-university/linear_regression_experiments</a>"
            ]
          },
          "metadata": {}
        },
        {
          "output_type": "display_data",
          "data": {
            "text/plain": [
              "<IPython.core.display.HTML object>"
            ],
            "text/html": [
              " View run at <a href='https://wandb.ai/israelavendanojr-western-washington-university/linear_regression_experiments/runs/mwecamro' target=\"_blank\">https://wandb.ai/israelavendanojr-western-washington-university/linear_regression_experiments/runs/mwecamro</a>"
            ]
          },
          "metadata": {}
        },
        {
          "output_type": "stream",
          "name": "stdout",
          "text": [
            "Linear Regression MSE on dev: 1.0727005294685845\n"
          ]
        },
        {
          "output_type": "display_data",
          "data": {
            "text/plain": [
              "<IPython.core.display.HTML object>"
            ],
            "text/html": []
          },
          "metadata": {}
        },
        {
          "output_type": "display_data",
          "data": {
            "text/plain": [
              "<IPython.core.display.HTML object>"
            ],
            "text/html": [
              "<br>    <style><br>        .wandb-row {<br>            display: flex;<br>            flex-direction: row;<br>            flex-wrap: wrap;<br>            justify-content: flex-start;<br>            width: 100%;<br>        }<br>        .wandb-col {<br>            display: flex;<br>            flex-direction: column;<br>            flex-basis: 100%;<br>            flex: 1;<br>            padding: 10px;<br>        }<br>    </style><br><div class=\"wandb-row\"><div class=\"wandb-col\"><h3>Run history:</h3><br/><table class=\"wandb\"><tr><td>mse</td><td>▁</td></tr><tr><td>r2_score</td><td>▁</td></tr></table><br/></div><div class=\"wandb-col\"><h3>Run summary:</h3><br/><table class=\"wandb\"><tr><td>mse</td><td>1.0727</td></tr><tr><td>r2_score</td><td>0.36382</td></tr></table><br/></div></div>"
            ]
          },
          "metadata": {}
        },
        {
          "output_type": "display_data",
          "data": {
            "text/plain": [
              "<IPython.core.display.HTML object>"
            ],
            "text/html": [
              " View run <strong style=\"color:#cdcd00\">colorful-voice-25</strong> at: <a href='https://wandb.ai/israelavendanojr-western-washington-university/linear_regression_experiments/runs/mwecamro' target=\"_blank\">https://wandb.ai/israelavendanojr-western-washington-university/linear_regression_experiments/runs/mwecamro</a><br> View project at: <a href='https://wandb.ai/israelavendanojr-western-washington-university/linear_regression_experiments' target=\"_blank\">https://wandb.ai/israelavendanojr-western-washington-university/linear_regression_experiments</a><br>Synced 5 W&B file(s), 0 media file(s), 0 artifact file(s) and 0 other file(s)"
            ]
          },
          "metadata": {}
        },
        {
          "output_type": "display_data",
          "data": {
            "text/plain": [
              "<IPython.core.display.HTML object>"
            ],
            "text/html": [
              "Find logs at: <code>./wandb/run-20250605_174959-mwecamro/logs</code>"
            ]
          },
          "metadata": {}
        }
      ],
      "source": [
        "# Ridge regression\n",
        "\n",
        "# Hyperparameter\n",
        "alpha = 175\n",
        "\n",
        "# Weight and Biases, start run with init, log with config\n",
        "wandb.init(\n",
        "    project=\"linear_regression_experiments\",\n",
        "    config={\n",
        "        \"model_type\": \"Ridge\",\n",
        "        \"description\": \"Ridge regression\",\n",
        "        \"alpha\": alpha,\n",
        "    }\n",
        ")\n",
        "\n",
        "# Train ridge regression\n",
        "ridge_regression = Ridge(alpha=alpha)\n",
        "ridge_regression.fit(sparse_matrix, y_train)\n",
        "\n",
        "y_dev_pred = ridge_regression.predict(sparse_matrix_dev)\n",
        "\n",
        "# Evaluate performance\n",
        "mse = mean_squared_error(y_dev, y_dev_pred)\n",
        "r2 = r2_score(y_dev, y_dev_pred)\n",
        "\n",
        "# Log to wandb\n",
        "wandb.log({\"mse\": mse, \"r2_score\": r2})\n",
        "wandb.finish()"
      ]
    },
    {
      "cell_type": "code",
      "execution_count": 21,
      "id": "nE0F8pN2-dqS",
      "metadata": {
        "colab": {
          "base_uri": "https://localhost:8080/",
          "height": 537
        },
        "id": "nE0F8pN2-dqS",
        "outputId": "587408b7-9017-4912-edc3-29caa17d0cbf"
      },
      "outputs": [
        {
          "output_type": "display_data",
          "data": {
            "text/plain": [
              "<IPython.core.display.HTML object>"
            ],
            "text/html": [
              "Tracking run with wandb version 0.19.11"
            ]
          },
          "metadata": {}
        },
        {
          "output_type": "display_data",
          "data": {
            "text/plain": [
              "<IPython.core.display.HTML object>"
            ],
            "text/html": [
              "Run data is saved locally in <code>/content/wandb/run-20250605_175401-oxxm5np5</code>"
            ]
          },
          "metadata": {}
        },
        {
          "output_type": "display_data",
          "data": {
            "text/plain": [
              "<IPython.core.display.HTML object>"
            ],
            "text/html": [
              "Syncing run <strong><a href='https://wandb.ai/israelavendanojr-western-washington-university/linear_regression_experiments/runs/oxxm5np5' target=\"_blank\">devout-universe-26</a></strong> to <a href='https://wandb.ai/israelavendanojr-western-washington-university/linear_regression_experiments' target=\"_blank\">Weights & Biases</a> (<a href='https://wandb.me/developer-guide' target=\"_blank\">docs</a>)<br>"
            ]
          },
          "metadata": {}
        },
        {
          "output_type": "display_data",
          "data": {
            "text/plain": [
              "<IPython.core.display.HTML object>"
            ],
            "text/html": [
              " View project at <a href='https://wandb.ai/israelavendanojr-western-washington-university/linear_regression_experiments' target=\"_blank\">https://wandb.ai/israelavendanojr-western-washington-university/linear_regression_experiments</a>"
            ]
          },
          "metadata": {}
        },
        {
          "output_type": "display_data",
          "data": {
            "text/plain": [
              "<IPython.core.display.HTML object>"
            ],
            "text/html": [
              " View run at <a href='https://wandb.ai/israelavendanojr-western-washington-university/linear_regression_experiments/runs/oxxm5np5' target=\"_blank\">https://wandb.ai/israelavendanojr-western-washington-university/linear_regression_experiments/runs/oxxm5np5</a>"
            ]
          },
          "metadata": {}
        },
        {
          "output_type": "stream",
          "name": "stdout",
          "text": [
            "Linear Regression MSE on dev: 1.6178681711236962\n"
          ]
        },
        {
          "output_type": "display_data",
          "data": {
            "text/plain": [
              "<IPython.core.display.HTML object>"
            ],
            "text/html": []
          },
          "metadata": {}
        },
        {
          "output_type": "display_data",
          "data": {
            "text/plain": [
              "<IPython.core.display.HTML object>"
            ],
            "text/html": [
              "<br>    <style><br>        .wandb-row {<br>            display: flex;<br>            flex-direction: row;<br>            flex-wrap: wrap;<br>            justify-content: flex-start;<br>            width: 100%;<br>        }<br>        .wandb-col {<br>            display: flex;<br>            flex-direction: column;<br>            flex-basis: 100%;<br>            flex: 1;<br>            padding: 10px;<br>        }<br>    </style><br><div class=\"wandb-row\"><div class=\"wandb-col\"><h3>Run history:</h3><br/><table class=\"wandb\"><tr><td>mse</td><td>▁</td></tr><tr><td>r2_score</td><td>▁</td></tr></table><br/></div><div class=\"wandb-col\"><h3>Run summary:</h3><br/><table class=\"wandb\"><tr><td>mse</td><td>1.61787</td></tr><tr><td>r2_score</td><td>0.0405</td></tr></table><br/></div></div>"
            ]
          },
          "metadata": {}
        },
        {
          "output_type": "display_data",
          "data": {
            "text/plain": [
              "<IPython.core.display.HTML object>"
            ],
            "text/html": [
              " View run <strong style=\"color:#cdcd00\">devout-universe-26</strong> at: <a href='https://wandb.ai/israelavendanojr-western-washington-university/linear_regression_experiments/runs/oxxm5np5' target=\"_blank\">https://wandb.ai/israelavendanojr-western-washington-university/linear_regression_experiments/runs/oxxm5np5</a><br> View project at: <a href='https://wandb.ai/israelavendanojr-western-washington-university/linear_regression_experiments' target=\"_blank\">https://wandb.ai/israelavendanojr-western-washington-university/linear_regression_experiments</a><br>Synced 5 W&B file(s), 0 media file(s), 0 artifact file(s) and 0 other file(s)"
            ]
          },
          "metadata": {}
        },
        {
          "output_type": "display_data",
          "data": {
            "text/plain": [
              "<IPython.core.display.HTML object>"
            ],
            "text/html": [
              "Find logs at: <code>./wandb/run-20250605_175401-oxxm5np5/logs</code>"
            ]
          },
          "metadata": {}
        }
      ],
      "source": [
        "# Lasso regression\n",
        "\n",
        "# Hyperparameter\n",
        "alpha = .1\n",
        "\n",
        "# Weight and Biases, start run with init, log with config\n",
        "wandb.init(\n",
        "    project=\"linear_regression_experiments\",\n",
        "    config={\n",
        "        \"model_type\": \"Lasso\",\n",
        "        \"description\": \"Lasso regression\",\n",
        "        \"alpha\": alpha,\n",
        "    }\n",
        ")\n",
        "\n",
        "# Train ridge regression\n",
        "lasso_regression = Lasso(alpha=alpha)\n",
        "lasso_regression.fit(sparse_matrix, y_train)\n",
        "\n",
        "y_dev_pred = lasso_regression.predict(sparse_matrix_dev)\n",
        "\n",
        "# Evaluate performance\n",
        "mse = mean_squared_error(y_dev, y_dev_pred)\n",
        "r2 = r2_score(y_dev, y_dev_pred)\n",
        "\n",
        "# Log to wandb\n",
        "wandb.log({\"mse\": mse, \"r2_score\": r2})\n",
        "wandb.finish()"
      ]
    },
    {
      "cell_type": "code",
      "execution_count": null,
      "id": "xFf5oRsbCWNP",
      "metadata": {
        "colab": {
          "base_uri": "https://localhost:8080/",
          "height": 122
        },
        "id": "xFf5oRsbCWNP",
        "outputId": "70e443c9-98f8-44a6-d178-e11858639a3c"
      },
      "outputs": [
        {
          "data": {
            "text/html": [
              "Tracking run with wandb version 0.19.11"
            ],
            "text/plain": [
              "<IPython.core.display.HTML object>"
            ]
          },
          "metadata": {},
          "output_type": "display_data"
        },
        {
          "data": {
            "text/html": [
              "Run data is saved locally in <code>/content/wandb/run-20250605_175726-71m7jn25</code>"
            ],
            "text/plain": [
              "<IPython.core.display.HTML object>"
            ]
          },
          "metadata": {},
          "output_type": "display_data"
        },
        {
          "data": {
            "text/html": [
              "Syncing run <strong><a href='https://wandb.ai/israelavendanojr-western-washington-university/ml_final_project/runs/71m7jn25' target=\"_blank\">unique-wood-17</a></strong> to <a href='https://wandb.ai/israelavendanojr-western-washington-university/ml_final_project' target=\"_blank\">Weights & Biases</a> (<a href='https://wandb.me/developer-guide' target=\"_blank\">docs</a>)<br>"
            ],
            "text/plain": [
              "<IPython.core.display.HTML object>"
            ]
          },
          "metadata": {},
          "output_type": "display_data"
        },
        {
          "data": {
            "text/html": [
              " View project at <a href='https://wandb.ai/israelavendanojr-western-washington-university/ml_final_project' target=\"_blank\">https://wandb.ai/israelavendanojr-western-washington-university/ml_final_project</a>"
            ],
            "text/plain": [
              "<IPython.core.display.HTML object>"
            ]
          },
          "metadata": {},
          "output_type": "display_data"
        },
        {
          "data": {
            "text/html": [
              " View run at <a href='https://wandb.ai/israelavendanojr-western-washington-university/ml_final_project/runs/71m7jn25' target=\"_blank\">https://wandb.ai/israelavendanojr-western-washington-university/ml_final_project/runs/71m7jn25</a>"
            ],
            "text/plain": [
              "<IPython.core.display.HTML object>"
            ]
          },
          "metadata": {},
          "output_type": "display_data"
        }
      ],
      "source": [
        "# Random Forest\n",
        "\n",
        "# Hyperparameter\n",
        "n_estimators = 100\n",
        "max_depth = 15\n",
        "random_state = 42\n",
        "\n",
        "# Weight and Biases, start run with init, log with config\n",
        "wandb.init(\n",
        "    project=\"ml_final_project\",\n",
        "    config={\n",
        "        \"model_type\": \"Random Forest\",\n",
        "        \"n_estimators\": n_estimators,\n",
        "        \"max_depth\": max_depth,\n",
        "        \"random_state\": random_state,\n",
        "    }\n",
        ")\n",
        "\n",
        "# Train ridge regression\n",
        "random_forest = RandomForestRegressor(n_estimators=n_estimators, max_depth=max_depth, random_state=random_state)\n",
        "random_forest.fit(sparse_matrix, y_train)\n",
        "\n",
        "y_dev_pred = random_forest.predict(sparse_matrix_dev)\n",
        "\n",
        "# Evaluate performance\n",
        "mse = mean_squared_error(y_dev, y_dev_pred)\n",
        "r2 = r2_score(y_dev, y_dev_pred)\n",
        "\n",
        "# Log to wandb\n",
        "wandb.log({\"mse\": mse, \"r2_score\": r2})\n",
        "wandb.finish()"
      ]
    },
    {
      "cell_type": "code",
      "execution_count": 16,
      "id": "XUWxzNIPyWgI",
      "metadata": {
        "colab": {
          "base_uri": "https://localhost:8080/",
          "height": 646
        },
        "id": "XUWxzNIPyWgI",
        "outputId": "e9b3401a-015d-4466-b490-eec7c17d82c4"
      },
      "outputs": [
        {
          "data": {
            "application/javascript": [
              "\n",
              "        window._wandbApiKey = new Promise((resolve, reject) => {\n",
              "            function loadScript(url) {\n",
              "            return new Promise(function(resolve, reject) {\n",
              "                let newScript = document.createElement(\"script\");\n",
              "                newScript.onerror = reject;\n",
              "                newScript.onload = resolve;\n",
              "                document.body.appendChild(newScript);\n",
              "                newScript.src = url;\n",
              "            });\n",
              "            }\n",
              "            loadScript(\"https://cdn.jsdelivr.net/npm/postmate/build/postmate.min.js\").then(() => {\n",
              "            const iframe = document.createElement('iframe')\n",
              "            iframe.style.cssText = \"width:0;height:0;border:none\"\n",
              "            document.body.appendChild(iframe)\n",
              "            const handshake = new Postmate({\n",
              "                container: iframe,\n",
              "                url: 'https://wandb.ai/authorize'\n",
              "            });\n",
              "            const timeout = setTimeout(() => reject(\"Couldn't auto authenticate\"), 5000)\n",
              "            handshake.then(function(child) {\n",
              "                child.on('authorize', data => {\n",
              "                    clearTimeout(timeout)\n",
              "                    resolve(data)\n",
              "                });\n",
              "            });\n",
              "            })\n",
              "        });\n",
              "    "
            ],
            "text/plain": [
              "<IPython.core.display.Javascript object>"
            ]
          },
          "metadata": {},
          "output_type": "display_data"
        },
        {
          "metadata": {
            "tags": null
          },
          "name": "stderr",
          "output_type": "stream",
          "text": [
            "\u001b[34m\u001b[1mwandb\u001b[0m: Logging into wandb.ai. (Learn how to deploy a W&B server locally: https://wandb.me/wandb-server)\n",
            "\u001b[34m\u001b[1mwandb\u001b[0m: You can find your API key in your browser here: https://wandb.ai/authorize?ref=models\n",
            "wandb: Paste an API key from your profile and hit enter:\u001b[34m\u001b[1mwandb\u001b[0m: \u001b[33mWARNING\u001b[0m If you're specifying your api key in code, ensure this code is not shared publicly.\n",
            "\u001b[34m\u001b[1mwandb\u001b[0m: \u001b[33mWARNING\u001b[0m Consider setting the WANDB_API_KEY environment variable, or running `wandb login` from the command line.\n",
            "\u001b[34m\u001b[1mwandb\u001b[0m: No netrc file found, creating one.\n",
            "\u001b[34m\u001b[1mwandb\u001b[0m: Appending key for api.wandb.ai to your netrc file: /root/.netrc\n",
            "\u001b[34m\u001b[1mwandb\u001b[0m: Currently logged in as: \u001b[33misraelavendanojr\u001b[0m (\u001b[33misraelavendanojr-western-washington-university\u001b[0m) to \u001b[32mhttps://api.wandb.ai\u001b[0m. Use \u001b[1m`wandb login --relogin`\u001b[0m to force relogin\n"
          ]
        },
        {
          "data": {
            "text/html": [
              "Tracking run with wandb version 0.19.11"
            ],
            "text/plain": [
              "<IPython.core.display.HTML object>"
            ]
          },
          "metadata": {},
          "output_type": "display_data"
        },
        {
          "data": {
            "text/html": [
              "Run data is saved locally in <code>/content/wandb/run-20250605_170543-vfe5m0kc</code>"
            ],
            "text/plain": [
              "<IPython.core.display.HTML object>"
            ]
          },
          "metadata": {},
          "output_type": "display_data"
        },
        {
          "data": {
            "text/html": [
              "Syncing run <strong><a href='https://wandb.ai/israelavendanojr-western-washington-university/ml_final_project/runs/vfe5m0kc' target=\"_blank\">decent-galaxy-16</a></strong> to <a href='https://wandb.ai/israelavendanojr-western-washington-university/ml_final_project' target=\"_blank\">Weights & Biases</a> (<a href='https://wandb.me/developer-guide' target=\"_blank\">docs</a>)<br>"
            ],
            "text/plain": [
              "<IPython.core.display.HTML object>"
            ]
          },
          "metadata": {},
          "output_type": "display_data"
        },
        {
          "data": {
            "text/html": [
              " View project at <a href='https://wandb.ai/israelavendanojr-western-washington-university/ml_final_project' target=\"_blank\">https://wandb.ai/israelavendanojr-western-washington-university/ml_final_project</a>"
            ],
            "text/plain": [
              "<IPython.core.display.HTML object>"
            ]
          },
          "metadata": {},
          "output_type": "display_data"
        },
        {
          "data": {
            "text/html": [
              " View run at <a href='https://wandb.ai/israelavendanojr-western-washington-university/ml_final_project/runs/vfe5m0kc' target=\"_blank\">https://wandb.ai/israelavendanojr-western-washington-university/ml_final_project/runs/vfe5m0kc</a>"
            ],
            "text/plain": [
              "<IPython.core.display.HTML object>"
            ]
          },
          "metadata": {},
          "output_type": "display_data"
        },
        {
          "output_type": "display_data",
          "data": {
            "text/plain": [
              "<IPython.core.display.HTML object>"
            ],
            "text/html": []
          },
          "metadata": {}
        },
        {
          "output_type": "display_data",
          "data": {
            "text/plain": [
              "<IPython.core.display.HTML object>"
            ],
            "text/html": [
              "<br>    <style><br>        .wandb-row {<br>            display: flex;<br>            flex-direction: row;<br>            flex-wrap: wrap;<br>            justify-content: flex-start;<br>            width: 100%;<br>        }<br>        .wandb-col {<br>            display: flex;<br>            flex-direction: column;<br>            flex-basis: 100%;<br>            flex: 1;<br>            padding: 10px;<br>        }<br>    </style><br><div class=\"wandb-row\"><div class=\"wandb-col\"><h3>Run history:</h3><br/><table class=\"wandb\"><tr><td>mse</td><td>▁</td></tr><tr><td>r2_score</td><td>▁</td></tr></table><br/></div><div class=\"wandb-col\"><h3>Run summary:</h3><br/><table class=\"wandb\"><tr><td>mse</td><td>0.77003</td></tr><tr><td>r2_score</td><td>0.54332</td></tr></table><br/></div></div>"
            ]
          },
          "metadata": {}
        },
        {
          "output_type": "display_data",
          "data": {
            "text/plain": [
              "<IPython.core.display.HTML object>"
            ],
            "text/html": [
              " View run <strong style=\"color:#cdcd00\">decent-galaxy-16</strong> at: <a href='https://wandb.ai/israelavendanojr-western-washington-university/ml_final_project/runs/vfe5m0kc' target=\"_blank\">https://wandb.ai/israelavendanojr-western-washington-university/ml_final_project/runs/vfe5m0kc</a><br> View project at: <a href='https://wandb.ai/israelavendanojr-western-washington-university/ml_final_project' target=\"_blank\">https://wandb.ai/israelavendanojr-western-washington-university/ml_final_project</a><br>Synced 5 W&B file(s), 0 media file(s), 0 artifact file(s) and 0 other file(s)"
            ]
          },
          "metadata": {}
        },
        {
          "output_type": "display_data",
          "data": {
            "text/plain": [
              "<IPython.core.display.HTML object>"
            ],
            "text/html": [
              "Find logs at: <code>./wandb/run-20250605_170543-vfe5m0kc/logs</code>"
            ]
          },
          "metadata": {}
        }
      ],
      "source": [
        "# Hyperparameters\n",
        "hidden_layer_sizes = (100, 100, 100, 100)\n",
        "activation = 'relu'\n",
        "learning_rate_init = 0.001\n",
        "alpha = 0.001\n",
        "early_stopping = True\n",
        "solver = 'adam'\n",
        "\n",
        "# Start a new wandb run\n",
        "wandb.init(\n",
        "    project=\"ml_final_project\",\n",
        "    config={\n",
        "        \"model_type\": \"MLPRegressor\",\n",
        "        \"hidden_layer_sizes\": hidden_layer_sizes,\n",
        "        \"activation\": activation,\n",
        "        \"learning_rate_init\": learning_rate_init,\n",
        "        \"alpha\": alpha,\n",
        "        \"early_stopping\": early_stopping,\n",
        "        \"solver\": solver,\n",
        "    }\n",
        ")\n",
        "\n",
        "# Create and train the MLPRegressor\n",
        "nueral_network = MLPRegressor(hidden_layer_sizes=hidden_layer_sizes,\n",
        "                    activation=activation,\n",
        "                    learning_rate_init=learning_rate_init,\n",
        "                    alpha=alpha,\n",
        "                    early_stopping=early_stopping,\n",
        "                    solver=solver)\n",
        "\n",
        "nueral_network.fit(sparse_matrix, y_train)\n",
        "\n",
        "# Predict\n",
        "y_dev_pred = nueral_network.predict(sparse_matrix_dev)\n",
        "\n",
        "# Evaluate performance\n",
        "mse = mean_squared_error(y_dev, y_dev_pred)\n",
        "r2 = r2_score(y_dev, y_dev_pred)\n",
        "\n",
        "# Log to wandb\n",
        "wandb.log({\"mse\": mse, \"r2_score\": r2})\n",
        "\n",
        "# Finish the run\n",
        "wandb.finish()\n"
      ]
    },
    {
      "cell_type": "code",
      "source": [
        "import matplotlib.pyplot as plt\n",
        "import seaborn as sns\n",
        "\n",
        "errors = y_dev - y_dev_pred\n",
        "sns.histplot(errors, bins=50, kde=True)\n",
        "plt.title(\"Distribution of Prediction Errors\")\n",
        "plt.xlabel(\"Prediction Error\")\n",
        "plt.ylabel(\"Frequency\")\n",
        "plt.savefig(\"error_distribution.png\")\n"
      ],
      "metadata": {
        "colab": {
          "base_uri": "https://localhost:8080/",
          "height": 472
        },
        "id": "njBsuAAAeGpQ",
        "outputId": "519863b3-4cce-41e0-866a-2b8e43413f86"
      },
      "id": "njBsuAAAeGpQ",
      "execution_count": 18,
      "outputs": [
        {
          "output_type": "display_data",
          "data": {
            "text/plain": [
              "<Figure size 640x480 with 1 Axes>"
            ],
            "image/png": "[encoded data removed]"
          },
          "metadata": {}
        }
      ]
    },
    {
      "cell_type": "code",
      "source": [
        "from sklearn.model_selection import RandomizedSearchCV\n",
        "from sklearn.ensemble import RandomForestRegressor\n",
        "from scipy.stats import randint\n",
        "\n",
        "rf = RandomForestRegressor(random_state=42)\n",
        "\n",
        "param_grid = {\n",
        "    'n_estimators': [100, 200, 300],\n",
        "    'max_depth': [20, 50, None],\n",
        "    'min_samples_split': [2, 5, 10],\n",
        "    'min_samples_leaf': [1, 2, 4],\n",
        "    'max_features': ['sqrt', 0.3, 0.6],\n",
        "}\n",
        "\n",
        "random_search = RandomizedSearchCV(estimator=rf,\n",
        "                                   param_distributions=param_grid,\n",
        "                                   n_iter=20,  # number of random combos\n",
        "                                   scoring='neg_mean_squared_error',\n",
        "                                   cv=3,\n",
        "                                   n_jobs=-1,\n",
        "                                   verbose=2,\n",
        "                                   random_state=42)\n",
        "\n",
        "random_search.fit(sparse_matrix, y_train)\n",
        "\n",
        "print(\"Best Parameters:\", random_search.best_params_)\n",
        "print(\"Best MSE (negated):\", -random_search.best_score_)\n",
        "\n",
        "for params in ParameterGrid(param_grid):\n",
        "    wandb.init(project=\"ml_final_project\", config=params)\n",
        "    model = RandomForestRegressor(**params, random_state=42)\n",
        "    model.fit(sparse_matrix, y_train)\n",
        "    preds = model.predict(sparse_matrix_dev)\n",
        "    mse = mean_squared_error(y_dev, preds)\n",
        "    wandb.log({\"mse\": mse})\n",
        "    wandb.finish()\n"
      ],
      "metadata": {
        "colab": {
          "base_uri": "https://localhost:8080/"
        },
        "id": "R_K4ZbbmuKWj",
        "outputId": "21a08a15-1040-45a4-ec50-994c5f3b716f"
      },
      "id": "R_K4ZbbmuKWj",
      "execution_count": null,
      "outputs": [
        {
          "metadata": {
            "tags": null
          },
          "name": "stdout",
          "output_type": "stream",
          "text": [
            "Fitting 3 folds for each of 20 candidates, totalling 60 fits\n"
          ]
        }
      ]
    },
    {
      "cell_type": "code",
      "source": [
        "sweep_config = {\n",
        "    'method': 'random',\n",
        "    'metric': {\n",
        "        'name': 'mse',\n",
        "        'goal': 'minimize'\n",
        "    },\n",
        "    'parameters': {\n",
        "        'hidden_layer_sizes': {\n",
        "            'values': [(100,), (100, 100), (100, 100, 100), (100, 100, 100, 100)]\n",
        "        },\n",
        "        'activation': {\n",
        "            'values': ['relu', 'tanh']\n",
        "        },\n",
        "        'learning_rate_init': {\n",
        "            'min': 0.0001,\n",
        "            'max': 0.01\n",
        "        },\n",
        "        'alpha': {\n",
        "            'values': [0.0001, 0.001, 0.01]\n",
        "        },\n",
        "        'solver': {\n",
        "            'values': ['adam', 'sgd']\n",
        "        }\n",
        "    }\n",
        "}\n",
        "\n",
        "\n"
      ],
      "metadata": {
        "id": "kSuOSLa3XZkx"
      },
      "id": "kSuOSLa3XZkx",
      "execution_count": null,
      "outputs": []
    },
    {
      "cell_type": "code",
      "source": [
        "def train():\n",
        "    wandb.init()\n",
        "    config = wandb.config\n",
        "\n",
        "    model = MLPRegressor(\n",
        "        hidden_layer_sizes=config.hidden_layer_sizes,\n",
        "        activation=config.activation,\n",
        "        learning_rate_init=config.learning_rate_init,\n",
        "        alpha=config.alpha,\n",
        "        solver=config.solver,\n",
        "        early_stopping=True,\n",
        "    )\n",
        "\n",
        "    model.fit(sparse_matrix, y_train)\n",
        "    y_dev_pred = model.predict(sparse_matrix_dev)\n",
        "\n",
        "    mse = mean_squared_error(y_dev, y_dev_pred)\n",
        "    r2 = r2_score(y_dev, y_dev_pred)\n",
        "\n",
        "    wandb.log({\"mse\": mse, \"r2_score\": r2})\n",
        "    wandb.finish()\n"
      ],
      "metadata": {
        "id": "uXwlxqJqXabJ"
      },
      "id": "uXwlxqJqXabJ",
      "execution_count": null,
      "outputs": []
    },
    {
      "cell_type": "code",
      "source": [
        "sweep_id = wandb.sweep(sweep_config, project=\"ml_final_project\")\n",
        "wandb.agent(sweep_id, function=train, count=30)\n"
      ],
      "metadata": {
        "colab": {
          "base_uri": "https://localhost:8080/",
          "height": 1000
        },
        "id": "tS2qPL99Xkn9",
        "outputId": "05938298-5070-466e-df95-7826d8d5a96e"
      },
      "id": "tS2qPL99Xkn9",
      "execution_count": null,
      "outputs": [
        {
          "data": {
            "application/javascript": [
              "\n",
              "        window._wandbApiKey = new Promise((resolve, reject) => {\n",
              "            function loadScript(url) {\n",
              "            return new Promise(function(resolve, reject) {\n",
              "                let newScript = document.createElement(\"script\");\n",
              "                newScript.onerror = reject;\n",
              "                newScript.onload = resolve;\n",
              "                document.body.appendChild(newScript);\n",
              "                newScript.src = url;\n",
              "            });\n",
              "            }\n",
              "            loadScript(\"https://cdn.jsdelivr.net/npm/postmate/build/postmate.min.js\").then(() => {\n",
              "            const iframe = document.createElement('iframe')\n",
              "            iframe.style.cssText = \"width:0;height:0;border:none\"\n",
              "            document.body.appendChild(iframe)\n",
              "            const handshake = new Postmate({\n",
              "                container: iframe,\n",
              "                url: 'https://wandb.ai/authorize'\n",
              "            });\n",
              "            const timeout = setTimeout(() => reject(\"Couldn't auto authenticate\"), 5000)\n",
              "            handshake.then(function(child) {\n",
              "                child.on('authorize', data => {\n",
              "                    clearTimeout(timeout)\n",
              "                    resolve(data)\n",
              "                });\n",
              "            });\n",
              "            })\n",
              "        });\n",
              "    "
            ],
            "text/plain": [
              "<IPython.core.display.Javascript object>"
            ]
          },
          "metadata": {},
          "output_type": "display_data"
        },
        {
          "metadata": {
            "tags": null
          },
          "name": "stderr",
          "output_type": "stream",
          "text": [
            "\u001b[34m\u001b[1mwandb\u001b[0m: Logging into wandb.ai. (Learn how to deploy a W&B server locally: https://wandb.me/wandb-server)\n",
            "\u001b[34m\u001b[1mwandb\u001b[0m: You can find your API key in your browser here: https://wandb.ai/authorize?ref=models\n",
            "wandb: Paste an API key from your profile and hit enter:\u001b[34m\u001b[1mwandb\u001b[0m: \u001b[33mWARNING\u001b[0m If you're specifying your api key in code, ensure this code is not shared publicly.\n",
            "\u001b[34m\u001b[1mwandb\u001b[0m: \u001b[33mWARNING\u001b[0m Consider setting the WANDB_API_KEY environment variable, or running `wandb login` from the command line.\n",
            "\u001b[34m\u001b[1mwandb\u001b[0m: No netrc file found, creating one.\n",
            "\u001b[34m\u001b[1mwandb\u001b[0m: Appending key for api.wandb.ai to your netrc file: /root/.netrc\n"
          ]
        },
        {
          "metadata": {
            "tags": null
          },
          "name": "stdout",
          "output_type": "stream",
          "text": [
            "Create sweep with ID: h2hgtkd6\n",
            "Sweep URL: https://wandb.ai/israelavendanojr-western-washington-university/ml_final_project/sweeps/h2hgtkd6\n"
          ]
        },
        {
          "metadata": {
            "tags": null
          },
          "name": "stderr",
          "output_type": "stream",
          "text": [
            "\u001b[34m\u001b[1mwandb\u001b[0m: Agent Starting Run: 1si89ip1 with config:\n",
            "\u001b[34m\u001b[1mwandb\u001b[0m: \tactivation: relu\n",
            "\u001b[34m\u001b[1mwandb\u001b[0m: \talpha: 0.0001\n",
            "\u001b[34m\u001b[1mwandb\u001b[0m: \thidden_layer_sizes: [100]\n",
            "\u001b[34m\u001b[1mwandb\u001b[0m: \tlearning_rate_init: 0.004668727459838259\n",
            "\u001b[34m\u001b[1mwandb\u001b[0m: \tsolver: sgd\n",
            "\u001b[34m\u001b[1mwandb\u001b[0m: Currently logged in as: \u001b[33misraelavendanojr\u001b[0m (\u001b[33misraelavendanojr-western-washington-university\u001b[0m) to \u001b[32mhttps://api.wandb.ai\u001b[0m. Use \u001b[1m`wandb login --relogin`\u001b[0m to force relogin\n"
          ]
        },
        {
          "data": {
            "text/html": [
              "Tracking run with wandb version 0.19.11"
            ],
            "text/plain": [
              "<IPython.core.display.HTML object>"
            ]
          },
          "metadata": {},
          "output_type": "display_data"
        },
        {
          "data": {
            "text/html": [
              "Run data is saved locally in <code>/content/wandb/run-20250603_200351-1si89ip1</code>"
            ],
            "text/plain": [
              "<IPython.core.display.HTML object>"
            ]
          },
          "metadata": {},
          "output_type": "display_data"
        },
        {
          "data": {
            "text/html": [
              "Syncing run <strong><a href='https://wandb.ai/israelavendanojr-western-washington-university/ml_final_project/runs/1si89ip1' target=\"_blank\">grateful-sweep-1</a></strong> to <a href='https://wandb.ai/israelavendanojr-western-washington-university/ml_final_project' target=\"_blank\">Weights & Biases</a> (<a href='https://wandb.me/developer-guide' target=\"_blank\">docs</a>)<br>Sweep page: <a href='https://wandb.ai/israelavendanojr-western-washington-university/ml_final_project/sweeps/h2hgtkd6' target=\"_blank\">https://wandb.ai/israelavendanojr-western-washington-university/ml_final_project/sweeps/h2hgtkd6</a>"
            ],
            "text/plain": [
              "<IPython.core.display.HTML object>"
            ]
          },
          "metadata": {},
          "output_type": "display_data"
        },
        {
          "data": {
            "text/html": [
              " View project at <a href='https://wandb.ai/israelavendanojr-western-washington-university/ml_final_project' target=\"_blank\">https://wandb.ai/israelavendanojr-western-washington-university/ml_final_project</a>"
            ],
            "text/plain": [
              "<IPython.core.display.HTML object>"
            ]
          },
          "metadata": {},
          "output_type": "display_data"
        },
        {
          "data": {
            "text/html": [
              " View sweep at <a href='https://wandb.ai/israelavendanojr-western-washington-university/ml_final_project/sweeps/h2hgtkd6' target=\"_blank\">https://wandb.ai/israelavendanojr-western-washington-university/ml_final_project/sweeps/h2hgtkd6</a>"
            ],
            "text/plain": [
              "<IPython.core.display.HTML object>"
            ]
          },
          "metadata": {},
          "output_type": "display_data"
        },
        {
          "data": {
            "text/html": [
              " View run at <a href='https://wandb.ai/israelavendanojr-western-washington-university/ml_final_project/runs/1si89ip1' target=\"_blank\">https://wandb.ai/israelavendanojr-western-washington-university/ml_final_project/runs/1si89ip1</a>"
            ],
            "text/plain": [
              "<IPython.core.display.HTML object>"
            ]
          },
          "metadata": {},
          "output_type": "display_data"
        },
        {
          "data": {
            "text/html": [],
            "text/plain": [
              "<IPython.core.display.HTML object>"
            ]
          },
          "metadata": {},
          "output_type": "display_data"
        },
        {
          "data": {
            "text/html": [
              "<br>    <style><br>        .wandb-row {<br>            display: flex;<br>            flex-direction: row;<br>            flex-wrap: wrap;<br>            justify-content: flex-start;<br>            width: 100%;<br>        }<br>        .wandb-col {<br>            display: flex;<br>            flex-direction: column;<br>            flex-basis: 100%;<br>            flex: 1;<br>            padding: 10px;<br>        }<br>    </style><br><div class=\"wandb-row\"><div class=\"wandb-col\"><h3>Run history:</h3><br/><table class=\"wandb\"><tr><td>mse</td><td>▁</td></tr><tr><td>r2_score</td><td>▁</td></tr></table><br/></div><div class=\"wandb-col\"><h3>Run summary:</h3><br/><table class=\"wandb\"><tr><td>mse</td><td>0.88643</td></tr><tr><td>r2_score</td><td>0.47429</td></tr></table><br/></div></div>"
            ],
            "text/plain": [
              "<IPython.core.display.HTML object>"
            ]
          },
          "metadata": {},
          "output_type": "display_data"
        },
        {
          "data": {
            "text/html": [
              " View run <strong style=\"color:#cdcd00\">grateful-sweep-1</strong> at: <a href='https://wandb.ai/israelavendanojr-western-washington-university/ml_final_project/runs/1si89ip1' target=\"_blank\">https://wandb.ai/israelavendanojr-western-washington-university/ml_final_project/runs/1si89ip1</a><br> View project at: <a href='https://wandb.ai/israelavendanojr-western-washington-university/ml_final_project' target=\"_blank\">https://wandb.ai/israelavendanojr-western-washington-university/ml_final_project</a><br>Synced 5 W&B file(s), 0 media file(s), 0 artifact file(s) and 0 other file(s)"
            ],
            "text/plain": [
              "<IPython.core.display.HTML object>"
            ]
          },
          "metadata": {},
          "output_type": "display_data"
        },
        {
          "data": {
            "text/html": [
              "Find logs at: <code>./wandb/run-20250603_200351-1si89ip1/logs</code>"
            ],
            "text/plain": [
              "<IPython.core.display.HTML object>"
            ]
          },
          "metadata": {},
          "output_type": "display_data"
        },
        {
          "metadata": {
            "tags": null
          },
          "name": "stderr",
          "output_type": "stream",
          "text": [
            "\u001b[34m\u001b[1mwandb\u001b[0m: Agent Starting Run: gyei1yyn with config:\n",
            "\u001b[34m\u001b[1mwandb\u001b[0m: \tactivation: relu\n",
            "\u001b[34m\u001b[1mwandb\u001b[0m: \talpha: 0.0001\n",
            "\u001b[34m\u001b[1mwandb\u001b[0m: \thidden_layer_sizes: [100, 100, 100, 100]\n",
            "\u001b[34m\u001b[1mwandb\u001b[0m: \tlearning_rate_init: 0.001382992609089358\n",
            "\u001b[34m\u001b[1mwandb\u001b[0m: \tsolver: sgd\n"
          ]
        },
        {
          "data": {
            "text/html": [
              "Tracking run with wandb version 0.19.11"
            ],
            "text/plain": [
              "<IPython.core.display.HTML object>"
            ]
          },
          "metadata": {},
          "output_type": "display_data"
        },
        {
          "data": {
            "text/html": [
              "Run data is saved locally in <code>/content/wandb/run-20250603_203953-gyei1yyn</code>"
            ],
            "text/plain": [
              "<IPython.core.display.HTML object>"
            ]
          },
          "metadata": {},
          "output_type": "display_data"
        },
        {
          "data": {
            "text/html": [
              "Syncing run <strong><a href='https://wandb.ai/israelavendanojr-western-washington-university/ml_final_project/runs/gyei1yyn' target=\"_blank\">fast-sweep-2</a></strong> to <a href='https://wandb.ai/israelavendanojr-western-washington-university/ml_final_project' target=\"_blank\">Weights & Biases</a> (<a href='https://wandb.me/developer-guide' target=\"_blank\">docs</a>)<br>Sweep page: <a href='https://wandb.ai/israelavendanojr-western-washington-university/ml_final_project/sweeps/h2hgtkd6' target=\"_blank\">https://wandb.ai/israelavendanojr-western-washington-university/ml_final_project/sweeps/h2hgtkd6</a>"
            ],
            "text/plain": [
              "<IPython.core.display.HTML object>"
            ]
          },
          "metadata": {},
          "output_type": "display_data"
        },
        {
          "data": {
            "text/html": [
              " View project at <a href='https://wandb.ai/israelavendanojr-western-washington-university/ml_final_project' target=\"_blank\">https://wandb.ai/israelavendanojr-western-washington-university/ml_final_project</a>"
            ],
            "text/plain": [
              "<IPython.core.display.HTML object>"
            ]
          },
          "metadata": {},
          "output_type": "display_data"
        },
        {
          "data": {
            "text/html": [
              " View sweep at <a href='https://wandb.ai/israelavendanojr-western-washington-university/ml_final_project/sweeps/h2hgtkd6' target=\"_blank\">https://wandb.ai/israelavendanojr-western-washington-university/ml_final_project/sweeps/h2hgtkd6</a>"
            ],
            "text/plain": [
              "<IPython.core.display.HTML object>"
            ]
          },
          "metadata": {},
          "output_type": "display_data"
        },
        {
          "data": {
            "text/html": [
              " View run at <a href='https://wandb.ai/israelavendanojr-western-washington-university/ml_final_project/runs/gyei1yyn' target=\"_blank\">https://wandb.ai/israelavendanojr-western-washington-university/ml_final_project/runs/gyei1yyn</a>"
            ],
            "text/plain": [
              "<IPython.core.display.HTML object>"
            ]
          },
          "metadata": {},
          "output_type": "display_data"
        },
        {
          "data": {
            "text/html": [],
            "text/plain": [
              "<IPython.core.display.HTML object>"
            ]
          },
          "metadata": {},
          "output_type": "display_data"
        },
        {
          "data": {
            "text/html": [
              "<br>    <style><br>        .wandb-row {<br>            display: flex;<br>            flex-direction: row;<br>            flex-wrap: wrap;<br>            justify-content: flex-start;<br>            width: 100%;<br>        }<br>        .wandb-col {<br>            display: flex;<br>            flex-direction: column;<br>            flex-basis: 100%;<br>            flex: 1;<br>            padding: 10px;<br>        }<br>    </style><br><div class=\"wandb-row\"><div class=\"wandb-col\"><h3>Run history:</h3><br/><table class=\"wandb\"><tr><td>mse</td><td>▁</td></tr><tr><td>r2_score</td><td>▁</td></tr></table><br/></div><div class=\"wandb-col\"><h3>Run summary:</h3><br/><table class=\"wandb\"><tr><td>mse</td><td>0.7796</td></tr><tr><td>r2_score</td><td>0.53765</td></tr></table><br/></div></div>"
            ],
            "text/plain": [
              "<IPython.core.display.HTML object>"
            ]
          },
          "metadata": {},
          "output_type": "display_data"
        },
        {
          "data": {
            "text/html": [
              " View run <strong style=\"color:#cdcd00\">fast-sweep-2</strong> at: <a href='https://wandb.ai/israelavendanojr-western-washington-university/ml_final_project/runs/gyei1yyn' target=\"_blank\">https://wandb.ai/israelavendanojr-western-washington-university/ml_final_project/runs/gyei1yyn</a><br> View project at: <a href='https://wandb.ai/israelavendanojr-western-washington-university/ml_final_project' target=\"_blank\">https://wandb.ai/israelavendanojr-western-washington-university/ml_final_project</a><br>Synced 5 W&B file(s), 0 media file(s), 0 artifact file(s) and 0 other file(s)"
            ],
            "text/plain": [
              "<IPython.core.display.HTML object>"
            ]
          },
          "metadata": {},
          "output_type": "display_data"
        },
        {
          "data": {
            "text/html": [
              "Find logs at: <code>./wandb/run-20250603_203953-gyei1yyn/logs</code>"
            ],
            "text/plain": [
              "<IPython.core.display.HTML object>"
            ]
          },
          "metadata": {},
          "output_type": "display_data"
        },
        {
          "metadata": {
            "tags": null
          },
          "name": "stderr",
          "output_type": "stream",
          "text": [
            "\u001b[34m\u001b[1mwandb\u001b[0m: Agent Starting Run: na1ucm6b with config:\n",
            "\u001b[34m\u001b[1mwandb\u001b[0m: \tactivation: relu\n",
            "\u001b[34m\u001b[1mwandb\u001b[0m: \talpha: 0.0001\n",
            "\u001b[34m\u001b[1mwandb\u001b[0m: \thidden_layer_sizes: [100, 100, 100, 100]\n",
            "\u001b[34m\u001b[1mwandb\u001b[0m: \tlearning_rate_init: 0.005878823808179728\n",
            "\u001b[34m\u001b[1mwandb\u001b[0m: \tsolver: adam\n"
          ]
        },
        {
          "data": {
            "text/html": [
              "Tracking run with wandb version 0.19.11"
            ],
            "text/plain": [
              "<IPython.core.display.HTML object>"
            ]
          },
          "metadata": {},
          "output_type": "display_data"
        },
        {
          "data": {
            "text/html": [
              "Run data is saved locally in <code>/content/wandb/run-20250603_211230-na1ucm6b</code>"
            ],
            "text/plain": [
              "<IPython.core.display.HTML object>"
            ]
          },
          "metadata": {},
          "output_type": "display_data"
        },
        {
          "data": {
            "text/html": [
              "Syncing run <strong><a href='https://wandb.ai/israelavendanojr-western-washington-university/ml_final_project/runs/na1ucm6b' target=\"_blank\">floral-sweep-3</a></strong> to <a href='https://wandb.ai/israelavendanojr-western-washington-university/ml_final_project' target=\"_blank\">Weights & Biases</a> (<a href='https://wandb.me/developer-guide' target=\"_blank\">docs</a>)<br>Sweep page: <a href='https://wandb.ai/israelavendanojr-western-washington-university/ml_final_project/sweeps/h2hgtkd6' target=\"_blank\">https://wandb.ai/israelavendanojr-western-washington-university/ml_final_project/sweeps/h2hgtkd6</a>"
            ],
            "text/plain": [
              "<IPython.core.display.HTML object>"
            ]
          },
          "metadata": {},
          "output_type": "display_data"
        },
        {
          "data": {
            "text/html": [
              " View project at <a href='https://wandb.ai/israelavendanojr-western-washington-university/ml_final_project' target=\"_blank\">https://wandb.ai/israelavendanojr-western-washington-university/ml_final_project</a>"
            ],
            "text/plain": [
              "<IPython.core.display.HTML object>"
            ]
          },
          "metadata": {},
          "output_type": "display_data"
        },
        {
          "data": {
            "text/html": [
              " View sweep at <a href='https://wandb.ai/israelavendanojr-western-washington-university/ml_final_project/sweeps/h2hgtkd6' target=\"_blank\">https://wandb.ai/israelavendanojr-western-washington-university/ml_final_project/sweeps/h2hgtkd6</a>"
            ],
            "text/plain": [
              "<IPython.core.display.HTML object>"
            ]
          },
          "metadata": {},
          "output_type": "display_data"
        },
        {
          "data": {
            "text/html": [
              " View run at <a href='https://wandb.ai/israelavendanojr-western-washington-university/ml_final_project/runs/na1ucm6b' target=\"_blank\">https://wandb.ai/israelavendanojr-western-washington-university/ml_final_project/runs/na1ucm6b</a>"
            ],
            "text/plain": [
              "<IPython.core.display.HTML object>"
            ]
          },
          "metadata": {},
          "output_type": "display_data"
        },
        {
          "data": {
            "text/html": [],
            "text/plain": [
              "<IPython.core.display.HTML object>"
            ]
          },
          "metadata": {},
          "output_type": "display_data"
        },
        {
          "data": {
            "text/html": [
              "<br>    <style><br>        .wandb-row {<br>            display: flex;<br>            flex-direction: row;<br>            flex-wrap: wrap;<br>            justify-content: flex-start;<br>            width: 100%;<br>        }<br>        .wandb-col {<br>            display: flex;<br>            flex-direction: column;<br>            flex-basis: 100%;<br>            flex: 1;<br>            padding: 10px;<br>        }<br>    </style><br><div class=\"wandb-row\"><div class=\"wandb-col\"><h3>Run history:</h3><br/><table class=\"wandb\"><tr><td>mse</td><td>▁</td></tr><tr><td>r2_score</td><td>▁</td></tr></table><br/></div><div class=\"wandb-col\"><h3>Run summary:</h3><br/><table class=\"wandb\"><tr><td>mse</td><td>0.79941</td></tr><tr><td>r2_score</td><td>0.5259</td></tr></table><br/></div></div>"
            ],
            "text/plain": [
              "<IPython.core.display.HTML object>"
            ]
          },
          "metadata": {},
          "output_type": "display_data"
        },
        {
          "data": {
            "text/html": [
              " View run <strong style=\"color:#cdcd00\">floral-sweep-3</strong> at: <a href='https://wandb.ai/israelavendanojr-western-washington-university/ml_final_project/runs/na1ucm6b' target=\"_blank\">https://wandb.ai/israelavendanojr-western-washington-university/ml_final_project/runs/na1ucm6b</a><br> View project at: <a href='https://wandb.ai/israelavendanojr-western-washington-university/ml_final_project' target=\"_blank\">https://wandb.ai/israelavendanojr-western-washington-university/ml_final_project</a><br>Synced 5 W&B file(s), 0 media file(s), 0 artifact file(s) and 0 other file(s)"
            ],
            "text/plain": [
              "<IPython.core.display.HTML object>"
            ]
          },
          "metadata": {},
          "output_type": "display_data"
        },
        {
          "data": {
            "text/html": [
              "Find logs at: <code>./wandb/run-20250603_211230-na1ucm6b/logs</code>"
            ],
            "text/plain": [
              "<IPython.core.display.HTML object>"
            ]
          },
          "metadata": {},
          "output_type": "display_data"
        },
        {
          "metadata": {
            "tags": null
          },
          "name": "stderr",
          "output_type": "stream",
          "text": [
            "\u001b[34m\u001b[1mwandb\u001b[0m: Agent Starting Run: r5sj7l4s with config:\n",
            "\u001b[34m\u001b[1mwandb\u001b[0m: \tactivation: tanh\n",
            "\u001b[34m\u001b[1mwandb\u001b[0m: \talpha: 0.001\n",
            "\u001b[34m\u001b[1mwandb\u001b[0m: \thidden_layer_sizes: [100]\n",
            "\u001b[34m\u001b[1mwandb\u001b[0m: \tlearning_rate_init: 0.00525073736967793\n",
            "\u001b[34m\u001b[1mwandb\u001b[0m: \tsolver: sgd\n"
          ]
        },
        {
          "data": {
            "text/html": [
              "Tracking run with wandb version 0.19.11"
            ],
            "text/plain": [
              "<IPython.core.display.HTML object>"
            ]
          },
          "metadata": {},
          "output_type": "display_data"
        },
        {
          "data": {
            "text/html": [
              "Run data is saved locally in <code>/content/wandb/run-20250603_213325-r5sj7l4s</code>"
            ],
            "text/plain": [
              "<IPython.core.display.HTML object>"
            ]
          },
          "metadata": {},
          "output_type": "display_data"
        },
        {
          "data": {
            "text/html": [
              "Syncing run <strong><a href='https://wandb.ai/israelavendanojr-western-washington-university/ml_final_project/runs/r5sj7l4s' target=\"_blank\">amber-sweep-4</a></strong> to <a href='https://wandb.ai/israelavendanojr-western-washington-university/ml_final_project' target=\"_blank\">Weights & Biases</a> (<a href='https://wandb.me/developer-guide' target=\"_blank\">docs</a>)<br>Sweep page: <a href='https://wandb.ai/israelavendanojr-western-washington-university/ml_final_project/sweeps/h2hgtkd6' target=\"_blank\">https://wandb.ai/israelavendanojr-western-washington-university/ml_final_project/sweeps/h2hgtkd6</a>"
            ],
            "text/plain": [
              "<IPython.core.display.HTML object>"
            ]
          },
          "metadata": {},
          "output_type": "display_data"
        },
        {
          "data": {
            "text/html": [
              " View project at <a href='https://wandb.ai/israelavendanojr-western-washington-university/ml_final_project' target=\"_blank\">https://wandb.ai/israelavendanojr-western-washington-university/ml_final_project</a>"
            ],
            "text/plain": [
              "<IPython.core.display.HTML object>"
            ]
          },
          "metadata": {},
          "output_type": "display_data"
        },
        {
          "data": {
            "text/html": [
              " View sweep at <a href='https://wandb.ai/israelavendanojr-western-washington-university/ml_final_project/sweeps/h2hgtkd6' target=\"_blank\">https://wandb.ai/israelavendanojr-western-washington-university/ml_final_project/sweeps/h2hgtkd6</a>"
            ],
            "text/plain": [
              "<IPython.core.display.HTML object>"
            ]
          },
          "metadata": {},
          "output_type": "display_data"
        },
        {
          "data": {
            "text/html": [
              " View run at <a href='https://wandb.ai/israelavendanojr-western-washington-university/ml_final_project/runs/r5sj7l4s' target=\"_blank\">https://wandb.ai/israelavendanojr-western-washington-university/ml_final_project/runs/r5sj7l4s</a>"
            ],
            "text/plain": [
              "<IPython.core.display.HTML object>"
            ]
          },
          "metadata": {},
          "output_type": "display_data"
        },
        {
          "data": {
            "text/html": [],
            "text/plain": [
              "<IPython.core.display.HTML object>"
            ]
          },
          "metadata": {},
          "output_type": "display_data"
        },
        {
          "data": {
            "text/html": [
              "<br>    <style><br>        .wandb-row {<br>            display: flex;<br>            flex-direction: row;<br>            flex-wrap: wrap;<br>            justify-content: flex-start;<br>            width: 100%;<br>        }<br>        .wandb-col {<br>            display: flex;<br>            flex-direction: column;<br>            flex-basis: 100%;<br>            flex: 1;<br>            padding: 10px;<br>        }<br>    </style><br><div class=\"wandb-row\"><div class=\"wandb-col\"><h3>Run history:</h3><br/><table class=\"wandb\"><tr><td>mse</td><td>▁</td></tr><tr><td>r2_score</td><td>▁</td></tr></table><br/></div><div class=\"wandb-col\"><h3>Run summary:</h3><br/><table class=\"wandb\"><tr><td>mse</td><td>0.82362</td></tr><tr><td>r2_score</td><td>0.51154</td></tr></table><br/></div></div>"
            ],
            "text/plain": [
              "<IPython.core.display.HTML object>"
            ]
          },
          "metadata": {},
          "output_type": "display_data"
        },
        {
          "data": {
            "text/html": [
              " View run <strong style=\"color:#cdcd00\">amber-sweep-4</strong> at: <a href='https://wandb.ai/israelavendanojr-western-washington-university/ml_final_project/runs/r5sj7l4s' target=\"_blank\">https://wandb.ai/israelavendanojr-western-washington-university/ml_final_project/runs/r5sj7l4s</a><br> View project at: <a href='https://wandb.ai/israelavendanojr-western-washington-university/ml_final_project' target=\"_blank\">https://wandb.ai/israelavendanojr-western-washington-university/ml_final_project</a><br>Synced 5 W&B file(s), 0 media file(s), 0 artifact file(s) and 0 other file(s)"
            ],
            "text/plain": [
              "<IPython.core.display.HTML object>"
            ]
          },
          "metadata": {},
          "output_type": "display_data"
        },
        {
          "data": {
            "text/html": [
              "Find logs at: <code>./wandb/run-20250603_213325-r5sj7l4s/logs</code>"
            ],
            "text/plain": [
              "<IPython.core.display.HTML object>"
            ]
          },
          "metadata": {},
          "output_type": "display_data"
        },
        {
          "metadata": {
            "tags": null
          },
          "name": "stderr",
          "output_type": "stream",
          "text": [
            "\u001b[34m\u001b[1mwandb\u001b[0m: Agent Starting Run: tqpafspp with config:\n",
            "\u001b[34m\u001b[1mwandb\u001b[0m: \tactivation: relu\n",
            "\u001b[34m\u001b[1mwandb\u001b[0m: \talpha: 0.0001\n",
            "\u001b[34m\u001b[1mwandb\u001b[0m: \thidden_layer_sizes: [100, 100, 100]\n",
            "\u001b[34m\u001b[1mwandb\u001b[0m: \tlearning_rate_init: 0.004797984196594609\n",
            "\u001b[34m\u001b[1mwandb\u001b[0m: \tsolver: sgd\n"
          ]
        },
        {
          "data": {
            "text/html": [
              "Tracking run with wandb version 0.19.11"
            ],
            "text/plain": [
              "<IPython.core.display.HTML object>"
            ]
          },
          "metadata": {},
          "output_type": "display_data"
        },
        {
          "data": {
            "text/html": [
              "Run data is saved locally in <code>/content/wandb/run-20250603_220831-tqpafspp</code>"
            ],
            "text/plain": [
              "<IPython.core.display.HTML object>"
            ]
          },
          "metadata": {},
          "output_type": "display_data"
        },
        {
          "data": {
            "text/html": [
              "Syncing run <strong><a href='https://wandb.ai/israelavendanojr-western-washington-university/ml_final_project/runs/tqpafspp' target=\"_blank\">gallant-sweep-5</a></strong> to <a href='https://wandb.ai/israelavendanojr-western-washington-university/ml_final_project' target=\"_blank\">Weights & Biases</a> (<a href='https://wandb.me/developer-guide' target=\"_blank\">docs</a>)<br>Sweep page: <a href='https://wandb.ai/israelavendanojr-western-washington-university/ml_final_project/sweeps/h2hgtkd6' target=\"_blank\">https://wandb.ai/israelavendanojr-western-washington-university/ml_final_project/sweeps/h2hgtkd6</a>"
            ],
            "text/plain": [
              "<IPython.core.display.HTML object>"
            ]
          },
          "metadata": {},
          "output_type": "display_data"
        },
        {
          "data": {
            "text/html": [
              " View project at <a href='https://wandb.ai/israelavendanojr-western-washington-university/ml_final_project' target=\"_blank\">https://wandb.ai/israelavendanojr-western-washington-university/ml_final_project</a>"
            ],
            "text/plain": [
              "<IPython.core.display.HTML object>"
            ]
          },
          "metadata": {},
          "output_type": "display_data"
        },
        {
          "data": {
            "text/html": [
              " View sweep at <a href='https://wandb.ai/israelavendanojr-western-washington-university/ml_final_project/sweeps/h2hgtkd6' target=\"_blank\">https://wandb.ai/israelavendanojr-western-washington-university/ml_final_project/sweeps/h2hgtkd6</a>"
            ],
            "text/plain": [
              "<IPython.core.display.HTML object>"
            ]
          },
          "metadata": {},
          "output_type": "display_data"
        },
        {
          "data": {
            "text/html": [
              " View run at <a href='https://wandb.ai/israelavendanojr-western-washington-university/ml_final_project/runs/tqpafspp' target=\"_blank\">https://wandb.ai/israelavendanojr-western-washington-university/ml_final_project/runs/tqpafspp</a>"
            ],
            "text/plain": [
              "<IPython.core.display.HTML object>"
            ]
          },
          "metadata": {},
          "output_type": "display_data"
        },
        {
          "data": {
            "text/html": [],
            "text/plain": [
              "<IPython.core.display.HTML object>"
            ]
          },
          "metadata": {},
          "output_type": "display_data"
        },
        {
          "data": {
            "text/html": [
              "<br>    <style><br>        .wandb-row {<br>            display: flex;<br>            flex-direction: row;<br>            flex-wrap: wrap;<br>            justify-content: flex-start;<br>            width: 100%;<br>        }<br>        .wandb-col {<br>            display: flex;<br>            flex-direction: column;<br>            flex-basis: 100%;<br>            flex: 1;<br>            padding: 10px;<br>        }<br>    </style><br><div class=\"wandb-row\"><div class=\"wandb-col\"><h3>Run history:</h3><br/><table class=\"wandb\"><tr><td>mse</td><td>▁</td></tr><tr><td>r2_score</td><td>▁</td></tr></table><br/></div><div class=\"wandb-col\"><h3>Run summary:</h3><br/><table class=\"wandb\"><tr><td>mse</td><td>0.77906</td></tr><tr><td>r2_score</td><td>0.53797</td></tr></table><br/></div></div>"
            ],
            "text/plain": [
              "<IPython.core.display.HTML object>"
            ]
          },
          "metadata": {},
          "output_type": "display_data"
        },
        {
          "data": {
            "text/html": [
              " View run <strong style=\"color:#cdcd00\">gallant-sweep-5</strong> at: <a href='https://wandb.ai/israelavendanojr-western-washington-university/ml_final_project/runs/tqpafspp' target=\"_blank\">https://wandb.ai/israelavendanojr-western-washington-university/ml_final_project/runs/tqpafspp</a><br> View project at: <a href='https://wandb.ai/israelavendanojr-western-washington-university/ml_final_project' target=\"_blank\">https://wandb.ai/israelavendanojr-western-washington-university/ml_final_project</a><br>Synced 5 W&B file(s), 0 media file(s), 0 artifact file(s) and 0 other file(s)"
            ],
            "text/plain": [
              "<IPython.core.display.HTML object>"
            ]
          },
          "metadata": {},
          "output_type": "display_data"
        },
        {
          "data": {
            "text/html": [
              "Find logs at: <code>./wandb/run-20250603_220831-tqpafspp/logs</code>"
            ],
            "text/plain": [
              "<IPython.core.display.HTML object>"
            ]
          },
          "metadata": {},
          "output_type": "display_data"
        },
        {
          "metadata": {
            "tags": null
          },
          "name": "stderr",
          "output_type": "stream",
          "text": [
            "\u001b[34m\u001b[1mwandb\u001b[0m: Agent Starting Run: 1ovpsmy4 with config:\n",
            "\u001b[34m\u001b[1mwandb\u001b[0m: \tactivation: tanh\n",
            "\u001b[34m\u001b[1mwandb\u001b[0m: \talpha: 0.01\n",
            "\u001b[34m\u001b[1mwandb\u001b[0m: \thidden_layer_sizes: [100, 100, 100]\n",
            "\u001b[34m\u001b[1mwandb\u001b[0m: \tlearning_rate_init: 0.0032510884323375274\n",
            "\u001b[34m\u001b[1mwandb\u001b[0m: \tsolver: sgd\n"
          ]
        },
        {
          "data": {
            "text/html": [
              "Tracking run with wandb version 0.19.11"
            ],
            "text/plain": [
              "<IPython.core.display.HTML object>"
            ]
          },
          "metadata": {},
          "output_type": "display_data"
        },
        {
          "data": {
            "text/html": [
              "Run data is saved locally in <code>/content/wandb/run-20250603_224145-1ovpsmy4</code>"
            ],
            "text/plain": [
              "<IPython.core.display.HTML object>"
            ]
          },
          "metadata": {},
          "output_type": "display_data"
        },
        {
          "data": {
            "text/html": [
              "Syncing run <strong><a href='https://wandb.ai/israelavendanojr-western-washington-university/ml_final_project/runs/1ovpsmy4' target=\"_blank\">cool-sweep-6</a></strong> to <a href='https://wandb.ai/israelavendanojr-western-washington-university/ml_final_project' target=\"_blank\">Weights & Biases</a> (<a href='https://wandb.me/developer-guide' target=\"_blank\">docs</a>)<br>Sweep page: <a href='https://wandb.ai/israelavendanojr-western-washington-university/ml_final_project/sweeps/h2hgtkd6' target=\"_blank\">https://wandb.ai/israelavendanojr-western-washington-university/ml_final_project/sweeps/h2hgtkd6</a>"
            ],
            "text/plain": [
              "<IPython.core.display.HTML object>"
            ]
          },
          "metadata": {},
          "output_type": "display_data"
        },
        {
          "data": {
            "text/html": [
              " View project at <a href='https://wandb.ai/israelavendanojr-western-washington-university/ml_final_project' target=\"_blank\">https://wandb.ai/israelavendanojr-western-washington-university/ml_final_project</a>"
            ],
            "text/plain": [
              "<IPython.core.display.HTML object>"
            ]
          },
          "metadata": {},
          "output_type": "display_data"
        },
        {
          "data": {
            "text/html": [
              " View sweep at <a href='https://wandb.ai/israelavendanojr-western-washington-university/ml_final_project/sweeps/h2hgtkd6' target=\"_blank\">https://wandb.ai/israelavendanojr-western-washington-university/ml_final_project/sweeps/h2hgtkd6</a>"
            ],
            "text/plain": [
              "<IPython.core.display.HTML object>"
            ]
          },
          "metadata": {},
          "output_type": "display_data"
        },
        {
          "data": {
            "text/html": [
              " View run at <a href='https://wandb.ai/israelavendanojr-western-washington-university/ml_final_project/runs/1ovpsmy4' target=\"_blank\">https://wandb.ai/israelavendanojr-western-washington-university/ml_final_project/runs/1ovpsmy4</a>"
            ],
            "text/plain": [
              "<IPython.core.display.HTML object>"
            ]
          },
          "metadata": {},
          "output_type": "display_data"
        },
        {
          "data": {
            "text/html": [],
            "text/plain": [
              "<IPython.core.display.HTML object>"
            ]
          },
          "metadata": {},
          "output_type": "display_data"
        },
        {
          "data": {
            "text/html": [
              "<br>    <style><br>        .wandb-row {<br>            display: flex;<br>            flex-direction: row;<br>            flex-wrap: wrap;<br>            justify-content: flex-start;<br>            width: 100%;<br>        }<br>        .wandb-col {<br>            display: flex;<br>            flex-direction: column;<br>            flex-basis: 100%;<br>            flex: 1;<br>            padding: 10px;<br>        }<br>    </style><br><div class=\"wandb-row\"><div class=\"wandb-col\"><h3>Run history:</h3><br/><table class=\"wandb\"><tr><td>mse</td><td>▁</td></tr><tr><td>r2_score</td><td>▁</td></tr></table><br/></div><div class=\"wandb-col\"><h3>Run summary:</h3><br/><table class=\"wandb\"><tr><td>mse</td><td>0.77933</td></tr><tr><td>r2_score</td><td>0.53781</td></tr></table><br/></div></div>"
            ],
            "text/plain": [
              "<IPython.core.display.HTML object>"
            ]
          },
          "metadata": {},
          "output_type": "display_data"
        },
        {
          "data": {
            "text/html": [
              " View run <strong style=\"color:#cdcd00\">cool-sweep-6</strong> at: <a href='https://wandb.ai/israelavendanojr-western-washington-university/ml_final_project/runs/1ovpsmy4' target=\"_blank\">https://wandb.ai/israelavendanojr-western-washington-university/ml_final_project/runs/1ovpsmy4</a><br> View project at: <a href='https://wandb.ai/israelavendanojr-western-washington-university/ml_final_project' target=\"_blank\">https://wandb.ai/israelavendanojr-western-washington-university/ml_final_project</a><br>Synced 5 W&B file(s), 0 media file(s), 0 artifact file(s) and 0 other file(s)"
            ],
            "text/plain": [
              "<IPython.core.display.HTML object>"
            ]
          },
          "metadata": {},
          "output_type": "display_data"
        },
        {
          "data": {
            "text/html": [
              "Find logs at: <code>./wandb/run-20250603_224145-1ovpsmy4/logs</code>"
            ],
            "text/plain": [
              "<IPython.core.display.HTML object>"
            ]
          },
          "metadata": {},
          "output_type": "display_data"
        },
        {
          "metadata": {
            "tags": null
          },
          "name": "stderr",
          "output_type": "stream",
          "text": [
            "\u001b[34m\u001b[1mwandb\u001b[0m: Agent Starting Run: cxm3o53x with config:\n",
            "\u001b[34m\u001b[1mwandb\u001b[0m: \tactivation: relu\n",
            "\u001b[34m\u001b[1mwandb\u001b[0m: \talpha: 0.001\n",
            "\u001b[34m\u001b[1mwandb\u001b[0m: \thidden_layer_sizes: [100, 100]\n",
            "\u001b[34m\u001b[1mwandb\u001b[0m: \tlearning_rate_init: 0.004981946248319302\n",
            "\u001b[34m\u001b[1mwandb\u001b[0m: \tsolver: sgd\n"
          ]
        },
        {
          "data": {
            "text/html": [
              "Tracking run with wandb version 0.19.11"
            ],
            "text/plain": [
              "<IPython.core.display.HTML object>"
            ]
          },
          "metadata": {},
          "output_type": "display_data"
        },
        {
          "data": {
            "text/html": [
              "Run data is saved locally in <code>/content/wandb/run-20250603_231112-cxm3o53x</code>"
            ],
            "text/plain": [
              "<IPython.core.display.HTML object>"
            ]
          },
          "metadata": {},
          "output_type": "display_data"
        },
        {
          "data": {
            "text/html": [
              "Syncing run <strong><a href='https://wandb.ai/israelavendanojr-western-washington-university/ml_final_project/runs/cxm3o53x' target=\"_blank\">daily-sweep-7</a></strong> to <a href='https://wandb.ai/israelavendanojr-western-washington-university/ml_final_project' target=\"_blank\">Weights & Biases</a> (<a href='https://wandb.me/developer-guide' target=\"_blank\">docs</a>)<br>Sweep page: <a href='https://wandb.ai/israelavendanojr-western-washington-university/ml_final_project/sweeps/h2hgtkd6' target=\"_blank\">https://wandb.ai/israelavendanojr-western-washington-university/ml_final_project/sweeps/h2hgtkd6</a>"
            ],
            "text/plain": [
              "<IPython.core.display.HTML object>"
            ]
          },
          "metadata": {},
          "output_type": "display_data"
        },
        {
          "data": {
            "text/html": [
              " View project at <a href='https://wandb.ai/israelavendanojr-western-washington-university/ml_final_project' target=\"_blank\">https://wandb.ai/israelavendanojr-western-washington-university/ml_final_project</a>"
            ],
            "text/plain": [
              "<IPython.core.display.HTML object>"
            ]
          },
          "metadata": {},
          "output_type": "display_data"
        },
        {
          "data": {
            "text/html": [
              " View sweep at <a href='https://wandb.ai/israelavendanojr-western-washington-university/ml_final_project/sweeps/h2hgtkd6' target=\"_blank\">https://wandb.ai/israelavendanojr-western-washington-university/ml_final_project/sweeps/h2hgtkd6</a>"
            ],
            "text/plain": [
              "<IPython.core.display.HTML object>"
            ]
          },
          "metadata": {},
          "output_type": "display_data"
        },
        {
          "data": {
            "text/html": [
              " View run at <a href='https://wandb.ai/israelavendanojr-western-washington-university/ml_final_project/runs/cxm3o53x' target=\"_blank\">https://wandb.ai/israelavendanojr-western-washington-university/ml_final_project/runs/cxm3o53x</a>"
            ],
            "text/plain": [
              "<IPython.core.display.HTML object>"
            ]
          },
          "metadata": {},
          "output_type": "display_data"
        },
        {
          "data": {
            "text/html": [],
            "text/plain": [
              "<IPython.core.display.HTML object>"
            ]
          },
          "metadata": {},
          "output_type": "display_data"
        },
        {
          "data": {
            "text/html": [
              "<br>    <style><br>        .wandb-row {<br>            display: flex;<br>            flex-direction: row;<br>            flex-wrap: wrap;<br>            justify-content: flex-start;<br>            width: 100%;<br>        }<br>        .wandb-col {<br>            display: flex;<br>            flex-direction: column;<br>            flex-basis: 100%;<br>            flex: 1;<br>            padding: 10px;<br>        }<br>    </style><br><div class=\"wandb-row\"><div class=\"wandb-col\"><h3>Run history:</h3><br/><table class=\"wandb\"><tr><td>mse</td><td>▁</td></tr><tr><td>r2_score</td><td>▁</td></tr></table><br/></div><div class=\"wandb-col\"><h3>Run summary:</h3><br/><table class=\"wandb\"><tr><td>mse</td><td>0.78984</td></tr><tr><td>r2_score</td><td>0.53158</td></tr></table><br/></div></div>"
            ],
            "text/plain": [
              "<IPython.core.display.HTML object>"
            ]
          },
          "metadata": {},
          "output_type": "display_data"
        },
        {
          "data": {
            "text/html": [
              " View run <strong style=\"color:#cdcd00\">daily-sweep-7</strong> at: <a href='https://wandb.ai/israelavendanojr-western-washington-university/ml_final_project/runs/cxm3o53x' target=\"_blank\">https://wandb.ai/israelavendanojr-western-washington-university/ml_final_project/runs/cxm3o53x</a><br> View project at: <a href='https://wandb.ai/israelavendanojr-western-washington-university/ml_final_project' target=\"_blank\">https://wandb.ai/israelavendanojr-western-washington-university/ml_final_project</a><br>Synced 5 W&B file(s), 0 media file(s), 0 artifact file(s) and 0 other file(s)"
            ],
            "text/plain": [
              "<IPython.core.display.HTML object>"
            ]
          },
          "metadata": {},
          "output_type": "display_data"
        },
        {
          "data": {
            "text/html": [
              "Find logs at: <code>./wandb/run-20250603_231112-cxm3o53x/logs</code>"
            ],
            "text/plain": [
              "<IPython.core.display.HTML object>"
            ]
          },
          "metadata": {},
          "output_type": "display_data"
        },
        {
          "metadata": {
            "tags": null
          },
          "name": "stderr",
          "output_type": "stream",
          "text": [
            "\u001b[34m\u001b[1mwandb\u001b[0m: Agent Starting Run: ywu4i76a with config:\n",
            "\u001b[34m\u001b[1mwandb\u001b[0m: \tactivation: relu\n",
            "\u001b[34m\u001b[1mwandb\u001b[0m: \talpha: 0.01\n",
            "\u001b[34m\u001b[1mwandb\u001b[0m: \thidden_layer_sizes: [100, 100, 100]\n",
            "\u001b[34m\u001b[1mwandb\u001b[0m: \tlearning_rate_init: 0.0027717713362478136\n",
            "\u001b[34m\u001b[1mwandb\u001b[0m: \tsolver: adam\n"
          ]
        },
        {
          "data": {
            "text/html": [
              "Tracking run with wandb version 0.19.11"
            ],
            "text/plain": [
              "<IPython.core.display.HTML object>"
            ]
          },
          "metadata": {},
          "output_type": "display_data"
        },
        {
          "data": {
            "text/html": [
              "Run data is saved locally in <code>/content/wandb/run-20250603_233706-ywu4i76a</code>"
            ],
            "text/plain": [
              "<IPython.core.display.HTML object>"
            ]
          },
          "metadata": {},
          "output_type": "display_data"
        },
        {
          "data": {
            "text/html": [
              "Syncing run <strong><a href='https://wandb.ai/israelavendanojr-western-washington-university/ml_final_project/runs/ywu4i76a' target=\"_blank\">peach-sweep-8</a></strong> to <a href='https://wandb.ai/israelavendanojr-western-washington-university/ml_final_project' target=\"_blank\">Weights & Biases</a> (<a href='https://wandb.me/developer-guide' target=\"_blank\">docs</a>)<br>Sweep page: <a href='https://wandb.ai/israelavendanojr-western-washington-university/ml_final_project/sweeps/h2hgtkd6' target=\"_blank\">https://wandb.ai/israelavendanojr-western-washington-university/ml_final_project/sweeps/h2hgtkd6</a>"
            ],
            "text/plain": [
              "<IPython.core.display.HTML object>"
            ]
          },
          "metadata": {},
          "output_type": "display_data"
        },
        {
          "data": {
            "text/html": [
              " View project at <a href='https://wandb.ai/israelavendanojr-western-washington-university/ml_final_project' target=\"_blank\">https://wandb.ai/israelavendanojr-western-washington-university/ml_final_project</a>"
            ],
            "text/plain": [
              "<IPython.core.display.HTML object>"
            ]
          },
          "metadata": {},
          "output_type": "display_data"
        },
        {
          "data": {
            "text/html": [
              " View sweep at <a href='https://wandb.ai/israelavendanojr-western-washington-university/ml_final_project/sweeps/h2hgtkd6' target=\"_blank\">https://wandb.ai/israelavendanojr-western-washington-university/ml_final_project/sweeps/h2hgtkd6</a>"
            ],
            "text/plain": [
              "<IPython.core.display.HTML object>"
            ]
          },
          "metadata": {},
          "output_type": "display_data"
        },
        {
          "data": {
            "text/html": [
              " View run at <a href='https://wandb.ai/israelavendanojr-western-washington-university/ml_final_project/runs/ywu4i76a' target=\"_blank\">https://wandb.ai/israelavendanojr-western-washington-university/ml_final_project/runs/ywu4i76a</a>"
            ],
            "text/plain": [
              "<IPython.core.display.HTML object>"
            ]
          },
          "metadata": {},
          "output_type": "display_data"
        },
        {
          "data": {
            "text/html": [],
            "text/plain": [
              "<IPython.core.display.HTML object>"
            ]
          },
          "metadata": {},
          "output_type": "display_data"
        },
        {
          "data": {
            "text/html": [
              "<br>    <style><br>        .wandb-row {<br>            display: flex;<br>            flex-direction: row;<br>            flex-wrap: wrap;<br>            justify-content: flex-start;<br>            width: 100%;<br>        }<br>        .wandb-col {<br>            display: flex;<br>            flex-direction: column;<br>            flex-basis: 100%;<br>            flex: 1;<br>            padding: 10px;<br>        }<br>    </style><br><div class=\"wandb-row\"><div class=\"wandb-col\"><h3>Run history:</h3><br/><table class=\"wandb\"><tr><td>mse</td><td>▁</td></tr><tr><td>r2_score</td><td>▁</td></tr></table><br/></div><div class=\"wandb-col\"><h3>Run summary:</h3><br/><table class=\"wandb\"><tr><td>mse</td><td>0.79064</td></tr><tr><td>r2_score</td><td>0.5311</td></tr></table><br/></div></div>"
            ],
            "text/plain": [
              "<IPython.core.display.HTML object>"
            ]
          },
          "metadata": {},
          "output_type": "display_data"
        },
        {
          "data": {
            "text/html": [
              " View run <strong style=\"color:#cdcd00\">peach-sweep-8</strong> at: <a href='https://wandb.ai/israelavendanojr-western-washington-university/ml_final_project/runs/ywu4i76a' target=\"_blank\">https://wandb.ai/israelavendanojr-western-washington-university/ml_final_project/runs/ywu4i76a</a><br> View project at: <a href='https://wandb.ai/israelavendanojr-western-washington-university/ml_final_project' target=\"_blank\">https://wandb.ai/israelavendanojr-western-washington-university/ml_final_project</a><br>Synced 5 W&B file(s), 0 media file(s), 0 artifact file(s) and 0 other file(s)"
            ],
            "text/plain": [
              "<IPython.core.display.HTML object>"
            ]
          },
          "metadata": {},
          "output_type": "display_data"
        },
        {
          "data": {
            "text/html": [
              "Find logs at: <code>./wandb/run-20250603_233706-ywu4i76a/logs</code>"
            ],
            "text/plain": [
              "<IPython.core.display.HTML object>"
            ]
          },
          "metadata": {},
          "output_type": "display_data"
        },
        {
          "metadata": {
            "tags": null
          },
          "name": "stderr",
          "output_type": "stream",
          "text": [
            "\u001b[34m\u001b[1mwandb\u001b[0m: Agent Starting Run: zhy2vt6l with config:\n",
            "\u001b[34m\u001b[1mwandb\u001b[0m: \tactivation: tanh\n",
            "\u001b[34m\u001b[1mwandb\u001b[0m: \talpha: 0.0001\n",
            "\u001b[34m\u001b[1mwandb\u001b[0m: \thidden_layer_sizes: [100, 100, 100, 100]\n",
            "\u001b[34m\u001b[1mwandb\u001b[0m: \tlearning_rate_init: 0.008875210904987064\n",
            "\u001b[34m\u001b[1mwandb\u001b[0m: \tsolver: sgd\n"
          ]
        },
        {
          "data": {
            "text/html": [
              "Tracking run with wandb version 0.19.11"
            ],
            "text/plain": [
              "<IPython.core.display.HTML object>"
            ]
          },
          "metadata": {},
          "output_type": "display_data"
        },
        {
          "data": {
            "text/html": [
              "Run data is saved locally in <code>/content/wandb/run-20250603_235731-zhy2vt6l</code>"
            ],
            "text/plain": [
              "<IPython.core.display.HTML object>"
            ]
          },
          "metadata": {},
          "output_type": "display_data"
        },
        {
          "data": {
            "text/html": [
              "Syncing run <strong><a href='https://wandb.ai/israelavendanojr-western-washington-university/ml_final_project/runs/zhy2vt6l' target=\"_blank\">vocal-sweep-9</a></strong> to <a href='https://wandb.ai/israelavendanojr-western-washington-university/ml_final_project' target=\"_blank\">Weights & Biases</a> (<a href='https://wandb.me/developer-guide' target=\"_blank\">docs</a>)<br>Sweep page: <a href='https://wandb.ai/israelavendanojr-western-washington-university/ml_final_project/sweeps/h2hgtkd6' target=\"_blank\">https://wandb.ai/israelavendanojr-western-washington-university/ml_final_project/sweeps/h2hgtkd6</a>"
            ],
            "text/plain": [
              "<IPython.core.display.HTML object>"
            ]
          },
          "metadata": {},
          "output_type": "display_data"
        },
        {
          "data": {
            "text/html": [
              " View project at <a href='https://wandb.ai/israelavendanojr-western-washington-university/ml_final_project' target=\"_blank\">https://wandb.ai/israelavendanojr-western-washington-university/ml_final_project</a>"
            ],
            "text/plain": [
              "<IPython.core.display.HTML object>"
            ]
          },
          "metadata": {},
          "output_type": "display_data"
        },
        {
          "data": {
            "text/html": [
              " View sweep at <a href='https://wandb.ai/israelavendanojr-western-washington-university/ml_final_project/sweeps/h2hgtkd6' target=\"_blank\">https://wandb.ai/israelavendanojr-western-washington-university/ml_final_project/sweeps/h2hgtkd6</a>"
            ],
            "text/plain": [
              "<IPython.core.display.HTML object>"
            ]
          },
          "metadata": {},
          "output_type": "display_data"
        },
        {
          "data": {
            "text/html": [
              " View run at <a href='https://wandb.ai/israelavendanojr-western-washington-university/ml_final_project/runs/zhy2vt6l' target=\"_blank\">https://wandb.ai/israelavendanojr-western-washington-university/ml_final_project/runs/zhy2vt6l</a>"
            ],
            "text/plain": [
              "<IPython.core.display.HTML object>"
            ]
          },
          "metadata": {},
          "output_type": "display_data"
        },
        {
          "data": {
            "text/html": [],
            "text/plain": [
              "<IPython.core.display.HTML object>"
            ]
          },
          "metadata": {},
          "output_type": "display_data"
        },
        {
          "data": {
            "text/html": [
              "<br>    <style><br>        .wandb-row {<br>            display: flex;<br>            flex-direction: row;<br>            flex-wrap: wrap;<br>            justify-content: flex-start;<br>            width: 100%;<br>        }<br>        .wandb-col {<br>            display: flex;<br>            flex-direction: column;<br>            flex-basis: 100%;<br>            flex: 1;<br>            padding: 10px;<br>        }<br>    </style><br><div class=\"wandb-row\"><div class=\"wandb-col\"><h3>Run history:</h3><br/><table class=\"wandb\"><tr><td>mse</td><td>▁</td></tr><tr><td>r2_score</td><td>▁</td></tr></table><br/></div><div class=\"wandb-col\"><h3>Run summary:</h3><br/><table class=\"wandb\"><tr><td>mse</td><td>0.79691</td></tr><tr><td>r2_score</td><td>0.52739</td></tr></table><br/></div></div>"
            ],
            "text/plain": [
              "<IPython.core.display.HTML object>"
            ]
          },
          "metadata": {},
          "output_type": "display_data"
        },
        {
          "data": {
            "text/html": [
              " View run <strong style=\"color:#cdcd00\">vocal-sweep-9</strong> at: <a href='https://wandb.ai/israelavendanojr-western-washington-university/ml_final_project/runs/zhy2vt6l' target=\"_blank\">https://wandb.ai/israelavendanojr-western-washington-university/ml_final_project/runs/zhy2vt6l</a><br> View project at: <a href='https://wandb.ai/israelavendanojr-western-washington-university/ml_final_project' target=\"_blank\">https://wandb.ai/israelavendanojr-western-washington-university/ml_final_project</a><br>Synced 5 W&B file(s), 0 media file(s), 0 artifact file(s) and 0 other file(s)"
            ],
            "text/plain": [
              "<IPython.core.display.HTML object>"
            ]
          },
          "metadata": {},
          "output_type": "display_data"
        },
        {
          "data": {
            "text/html": [
              "Find logs at: <code>./wandb/run-20250603_235731-zhy2vt6l/logs</code>"
            ],
            "text/plain": [
              "<IPython.core.display.HTML object>"
            ]
          },
          "metadata": {},
          "output_type": "display_data"
        },
        {
          "metadata": {
            "tags": null
          },
          "name": "stderr",
          "output_type": "stream",
          "text": [
            "\u001b[34m\u001b[1mwandb\u001b[0m: Agent Starting Run: 6dg2bnqi with config:\n",
            "\u001b[34m\u001b[1mwandb\u001b[0m: \tactivation: relu\n",
            "\u001b[34m\u001b[1mwandb\u001b[0m: \talpha: 0.0001\n",
            "\u001b[34m\u001b[1mwandb\u001b[0m: \thidden_layer_sizes: [100, 100, 100, 100]\n",
            "\u001b[34m\u001b[1mwandb\u001b[0m: \tlearning_rate_init: 0.008029262220848063\n",
            "\u001b[34m\u001b[1mwandb\u001b[0m: \tsolver: adam\n"
          ]
        },
        {
          "data": {
            "text/html": [
              "Tracking run with wandb version 0.19.11"
            ],
            "text/plain": [
              "<IPython.core.display.HTML object>"
            ]
          },
          "metadata": {},
          "output_type": "display_data"
        },
        {
          "data": {
            "text/html": [
              "Run data is saved locally in <code>/content/wandb/run-20250604_003429-6dg2bnqi</code>"
            ],
            "text/plain": [
              "<IPython.core.display.HTML object>"
            ]
          },
          "metadata": {},
          "output_type": "display_data"
        },
        {
          "data": {
            "text/html": [
              "Syncing run <strong><a href='https://wandb.ai/israelavendanojr-western-washington-university/ml_final_project/runs/6dg2bnqi' target=\"_blank\">jumping-sweep-10</a></strong> to <a href='https://wandb.ai/israelavendanojr-western-washington-university/ml_final_project' target=\"_blank\">Weights & Biases</a> (<a href='https://wandb.me/developer-guide' target=\"_blank\">docs</a>)<br>Sweep page: <a href='https://wandb.ai/israelavendanojr-western-washington-university/ml_final_project/sweeps/h2hgtkd6' target=\"_blank\">https://wandb.ai/israelavendanojr-western-washington-university/ml_final_project/sweeps/h2hgtkd6</a>"
            ],
            "text/plain": [
              "<IPython.core.display.HTML object>"
            ]
          },
          "metadata": {},
          "output_type": "display_data"
        },
        {
          "data": {
            "text/html": [
              " View project at <a href='https://wandb.ai/israelavendanojr-western-washington-university/ml_final_project' target=\"_blank\">https://wandb.ai/israelavendanojr-western-washington-university/ml_final_project</a>"
            ],
            "text/plain": [
              "<IPython.core.display.HTML object>"
            ]
          },
          "metadata": {},
          "output_type": "display_data"
        },
        {
          "data": {
            "text/html": [
              " View sweep at <a href='https://wandb.ai/israelavendanojr-western-washington-university/ml_final_project/sweeps/h2hgtkd6' target=\"_blank\">https://wandb.ai/israelavendanojr-western-washington-university/ml_final_project/sweeps/h2hgtkd6</a>"
            ],
            "text/plain": [
              "<IPython.core.display.HTML object>"
            ]
          },
          "metadata": {},
          "output_type": "display_data"
        },
        {
          "data": {
            "text/html": [
              " View run at <a href='https://wandb.ai/israelavendanojr-western-washington-university/ml_final_project/runs/6dg2bnqi' target=\"_blank\">https://wandb.ai/israelavendanojr-western-washington-university/ml_final_project/runs/6dg2bnqi</a>"
            ],
            "text/plain": [
              "<IPython.core.display.HTML object>"
            ]
          },
          "metadata": {},
          "output_type": "display_data"
        },
        {
          "data": {
            "text/html": [],
            "text/plain": [
              "<IPython.core.display.HTML object>"
            ]
          },
          "metadata": {},
          "output_type": "display_data"
        },
        {
          "data": {
            "text/html": [
              "<br>    <style><br>        .wandb-row {<br>            display: flex;<br>            flex-direction: row;<br>            flex-wrap: wrap;<br>            justify-content: flex-start;<br>            width: 100%;<br>        }<br>        .wandb-col {<br>            display: flex;<br>            flex-direction: column;<br>            flex-basis: 100%;<br>            flex: 1;<br>            padding: 10px;<br>        }<br>    </style><br><div class=\"wandb-row\"><div class=\"wandb-col\"><h3>Run history:</h3><br/><table class=\"wandb\"><tr><td>mse</td><td>▁</td></tr><tr><td>r2_score</td><td>▁</td></tr></table><br/></div><div class=\"wandb-col\"><h3>Run summary:</h3><br/><table class=\"wandb\"><tr><td>mse</td><td>0.77425</td></tr><tr><td>r2_score</td><td>0.54082</td></tr></table><br/></div></div>"
            ],
            "text/plain": [
              "<IPython.core.display.HTML object>"
            ]
          },
          "metadata": {},
          "output_type": "display_data"
        },
        {
          "data": {
            "text/html": [
              " View run <strong style=\"color:#cdcd00\">jumping-sweep-10</strong> at: <a href='https://wandb.ai/israelavendanojr-western-washington-university/ml_final_project/runs/6dg2bnqi' target=\"_blank\">https://wandb.ai/israelavendanojr-western-washington-university/ml_final_project/runs/6dg2bnqi</a><br> View project at: <a href='https://wandb.ai/israelavendanojr-western-washington-university/ml_final_project' target=\"_blank\">https://wandb.ai/israelavendanojr-western-washington-university/ml_final_project</a><br>Synced 5 W&B file(s), 0 media file(s), 0 artifact file(s) and 0 other file(s)"
            ],
            "text/plain": [
              "<IPython.core.display.HTML object>"
            ]
          },
          "metadata": {},
          "output_type": "display_data"
        },
        {
          "data": {
            "text/html": [
              "Find logs at: <code>./wandb/run-20250604_003429-6dg2bnqi/logs</code>"
            ],
            "text/plain": [
              "<IPython.core.display.HTML object>"
            ]
          },
          "metadata": {},
          "output_type": "display_data"
        },
        {
          "metadata": {
            "tags": null
          },
          "name": "stderr",
          "output_type": "stream",
          "text": [
            "\u001b[34m\u001b[1mwandb\u001b[0m: Agent Starting Run: 9eives0l with config:\n",
            "\u001b[34m\u001b[1mwandb\u001b[0m: \tactivation: relu\n",
            "\u001b[34m\u001b[1mwandb\u001b[0m: \talpha: 0.0001\n",
            "\u001b[34m\u001b[1mwandb\u001b[0m: \thidden_layer_sizes: [100, 100, 100]\n",
            "\u001b[34m\u001b[1mwandb\u001b[0m: \tlearning_rate_init: 0.005744762873232517\n",
            "\u001b[34m\u001b[1mwandb\u001b[0m: \tsolver: sgd\n"
          ]
        },
        {
          "data": {
            "text/html": [
              "Tracking run with wandb version 0.19.11"
            ],
            "text/plain": [
              "<IPython.core.display.HTML object>"
            ]
          },
          "metadata": {},
          "output_type": "display_data"
        },
        {
          "data": {
            "text/html": [
              "Run data is saved locally in <code>/content/wandb/run-20250604_005343-9eives0l</code>"
            ],
            "text/plain": [
              "<IPython.core.display.HTML object>"
            ]
          },
          "metadata": {},
          "output_type": "display_data"
        },
        {
          "data": {
            "text/html": [
              "Syncing run <strong><a href='https://wandb.ai/israelavendanojr-western-washington-university/ml_final_project/runs/9eives0l' target=\"_blank\">misunderstood-sweep-11</a></strong> to <a href='https://wandb.ai/israelavendanojr-western-washington-university/ml_final_project' target=\"_blank\">Weights & Biases</a> (<a href='https://wandb.me/developer-guide' target=\"_blank\">docs</a>)<br>Sweep page: <a href='https://wandb.ai/israelavendanojr-western-washington-university/ml_final_project/sweeps/h2hgtkd6' target=\"_blank\">https://wandb.ai/israelavendanojr-western-washington-university/ml_final_project/sweeps/h2hgtkd6</a>"
            ],
            "text/plain": [
              "<IPython.core.display.HTML object>"
            ]
          },
          "metadata": {},
          "output_type": "display_data"
        },
        {
          "data": {
            "text/html": [
              " View project at <a href='https://wandb.ai/israelavendanojr-western-washington-university/ml_final_project' target=\"_blank\">https://wandb.ai/israelavendanojr-western-washington-university/ml_final_project</a>"
            ],
            "text/plain": [
              "<IPython.core.display.HTML object>"
            ]
          },
          "metadata": {},
          "output_type": "display_data"
        },
        {
          "data": {
            "text/html": [
              " View sweep at <a href='https://wandb.ai/israelavendanojr-western-washington-university/ml_final_project/sweeps/h2hgtkd6' target=\"_blank\">https://wandb.ai/israelavendanojr-western-washington-university/ml_final_project/sweeps/h2hgtkd6</a>"
            ],
            "text/plain": [
              "<IPython.core.display.HTML object>"
            ]
          },
          "metadata": {},
          "output_type": "display_data"
        },
        {
          "data": {
            "text/html": [
              " View run at <a href='https://wandb.ai/israelavendanojr-western-washington-university/ml_final_project/runs/9eives0l' target=\"_blank\">https://wandb.ai/israelavendanojr-western-washington-university/ml_final_project/runs/9eives0l</a>"
            ],
            "text/plain": [
              "<IPython.core.display.HTML object>"
            ]
          },
          "metadata": {},
          "output_type": "display_data"
        },
        {
          "data": {
            "text/html": [],
            "text/plain": [
              "<IPython.core.display.HTML object>"
            ]
          },
          "metadata": {},
          "output_type": "display_data"
        },
        {
          "data": {
            "text/html": [
              " View run <strong style=\"color:#cdcd00\">misunderstood-sweep-11</strong> at: <a href='https://wandb.ai/israelavendanojr-western-washington-university/ml_final_project/runs/9eives0l' target=\"_blank\">https://wandb.ai/israelavendanojr-western-washington-university/ml_final_project/runs/9eives0l</a><br> View project at: <a href='https://wandb.ai/israelavendanojr-western-washington-university/ml_final_project' target=\"_blank\">https://wandb.ai/israelavendanojr-western-washington-university/ml_final_project</a><br>Synced 5 W&B file(s), 0 media file(s), 0 artifact file(s) and 0 other file(s)"
            ],
            "text/plain": [
              "<IPython.core.display.HTML object>"
            ]
          },
          "metadata": {},
          "output_type": "display_data"
        },
        {
          "data": {
            "text/html": [
              "Find logs at: <code>./wandb/run-20250604_005343-9eives0l/logs</code>"
            ],
            "text/plain": [
              "<IPython.core.display.HTML object>"
            ]
          },
          "metadata": {},
          "output_type": "display_data"
        },
        {
          "metadata": {
            "tags": null
          },
          "name": "stderr",
          "output_type": "stream",
          "text": [
            "\u001b[34m\u001b[1mwandb\u001b[0m: Agent Starting Run: ab0r1nj0 with config:\n",
            "\u001b[34m\u001b[1mwandb\u001b[0m: \tactivation: relu\n",
            "\u001b[34m\u001b[1mwandb\u001b[0m: \talpha: 0.0001\n",
            "\u001b[34m\u001b[1mwandb\u001b[0m: \thidden_layer_sizes: [100, 100, 100]\n",
            "\u001b[34m\u001b[1mwandb\u001b[0m: \tlearning_rate_init: 0.007545361072505586\n",
            "\u001b[34m\u001b[1mwandb\u001b[0m: \tsolver: sgd\n"
          ]
        },
        {
          "data": {
            "text/html": [
              "Tracking run with wandb version 0.19.11"
            ],
            "text/plain": [
              "<IPython.core.display.HTML object>"
            ]
          },
          "metadata": {},
          "output_type": "display_data"
        },
        {
          "data": {
            "text/html": [
              "Run data is saved locally in <code>/content/wandb/run-20250604_010808-ab0r1nj0</code>"
            ],
            "text/plain": [
              "<IPython.core.display.HTML object>"
            ]
          },
          "metadata": {},
          "output_type": "display_data"
        },
        {
          "data": {
            "text/html": [
              "Syncing run <strong><a href='https://wandb.ai/israelavendanojr-western-washington-university/ml_final_project/runs/ab0r1nj0' target=\"_blank\">rose-sweep-12</a></strong> to <a href='https://wandb.ai/israelavendanojr-western-washington-university/ml_final_project' target=\"_blank\">Weights & Biases</a> (<a href='https://wandb.me/developer-guide' target=\"_blank\">docs</a>)<br>Sweep page: <a href='https://wandb.ai/israelavendanojr-western-washington-university/ml_final_project/sweeps/h2hgtkd6' target=\"_blank\">https://wandb.ai/israelavendanojr-western-washington-university/ml_final_project/sweeps/h2hgtkd6</a>"
            ],
            "text/plain": [
              "<IPython.core.display.HTML object>"
            ]
          },
          "metadata": {},
          "output_type": "display_data"
        },
        {
          "data": {
            "text/html": [
              " View project at <a href='https://wandb.ai/israelavendanojr-western-washington-university/ml_final_project' target=\"_blank\">https://wandb.ai/israelavendanojr-western-washington-university/ml_final_project</a>"
            ],
            "text/plain": [
              "<IPython.core.display.HTML object>"
            ]
          },
          "metadata": {},
          "output_type": "display_data"
        },
        {
          "data": {
            "text/html": [
              " View sweep at <a href='https://wandb.ai/israelavendanojr-western-washington-university/ml_final_project/sweeps/h2hgtkd6' target=\"_blank\">https://wandb.ai/israelavendanojr-western-washington-university/ml_final_project/sweeps/h2hgtkd6</a>"
            ],
            "text/plain": [
              "<IPython.core.display.HTML object>"
            ]
          },
          "metadata": {},
          "output_type": "display_data"
        },
        {
          "data": {
            "text/html": [
              " View run at <a href='https://wandb.ai/israelavendanojr-western-washington-university/ml_final_project/runs/ab0r1nj0' target=\"_blank\">https://wandb.ai/israelavendanojr-western-washington-university/ml_final_project/runs/ab0r1nj0</a>"
            ],
            "text/plain": [
              "<IPython.core.display.HTML object>"
            ]
          },
          "metadata": {},
          "output_type": "display_data"
        },
        {
          "output_type": "stream",
          "name": "stderr",
          "text": [
            "\u001b[34m\u001b[1mwandb\u001b[0m: Ctrl + C detected. Stopping sweep.\n"
          ]
        }
      ]
    }
  ],
  "metadata": {
    "colab": {
      "provenance": []
    },
    "kernelspec": {
      "display_name": "venv",
      "language": "python",
      "name": "python3"
    },
    "language_info": {
      "codemirror_mode": {
        "name": "ipython",
        "version": 3
      },
      "file_extension": ".py",
      "mimetype": "text/x-python",
      "name": "python",
      "nbconvert_exporter": "python",
      "pygments_lexer": "ipython3",
      "version": "3.12.10"
    }
  },
  "nbformat": 4,
  "nbformat_minor": 5
}